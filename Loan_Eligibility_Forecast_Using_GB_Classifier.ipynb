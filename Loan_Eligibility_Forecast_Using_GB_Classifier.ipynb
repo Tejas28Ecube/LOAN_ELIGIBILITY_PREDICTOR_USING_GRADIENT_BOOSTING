{
 "cells": [
  {
   "cell_type": "code",
   "execution_count": 1,
   "id": "300846b3",
   "metadata": {},
   "outputs": [],
   "source": [
    "# This creates a text file requirements.txt which contains all dependencies\n",
    "# pip freeze > requirements.txt"
   ]
  },
  {
   "cell_type": "code",
   "execution_count": 2,
   "id": "ec25c779",
   "metadata": {},
   "outputs": [],
   "source": [
    "# IN ANACONDA PROMPT IN ADMINISTRATOR MODE\n",
    "# pip install -U imbalanced-learn\n",
    "# conda install -c conda-forge imbalanced-learn"
   ]
  },
  {
   "cell_type": "code",
   "execution_count": 3,
   "id": "d1acc60d",
   "metadata": {},
   "outputs": [],
   "source": [
    "# Import library of silencing future warnings\n",
    "import warnings\n",
    "warnings.simplefilter(action='ignore', category=FutureWarning)\n",
    "# import basic libraries\n",
    "import os\n",
    "import pandas as pd\n",
    "import numpy as np\n",
    "import statistics\n",
    "from scipy.stats import boxcox\n",
    "# import packages for plotting\n",
    "import matplotlib.pyplot as plt\n",
    "import seaborn as sns"
   ]
  },
  {
   "cell_type": "code",
   "execution_count": 4,
   "id": "23fecdaa",
   "metadata": {},
   "outputs": [],
   "source": [
    "# Import libraries from sklearn for data preprocessing\n",
    "from sklearn import preprocessing\n",
    "# Import libraries from sklearn for creating various models\n",
    "from sklearn.model_selection import train_test_split,GridSearchCV,cross_val_score\n",
    "from sklearn.preprocessing import LabelBinarizer,StandardScaler,OrdinalEncoder\n",
    "from sklearn.linear_model import LogisticRegression,RidgeClassifier, PassiveAggressiveClassifier\n",
    "from sklearn.ensemble import RandomForestClassifier, GradientBoostingClassifier\n",
    "from sklearn.neighbors import KNeighborsClassifier\n",
    "from sklearn.tree import DecisionTreeClassifier\n",
    "from sklearn.naive_bayes import BernoulliNB\n",
    "from sklearn.svm import LinearSVC\n",
    "# Import libraries from sklearn evaluation matrix\n",
    "from sklearn.metrics import confusion_matrix\n",
    "from sklearn.metrics import roc_auc_score\n",
    "from sklearn.metrics import roc_curve\n",
    "from sklearn import metrics"
   ]
  },
  {
   "cell_type": "code",
   "execution_count": 5,
   "id": "419722dc",
   "metadata": {},
   "outputs": [],
   "source": [
    "# Import other libraries\n",
    "from imblearn import under_sampling, over_sampling\n",
    "from imblearn.over_sampling import SMOTE\n",
    "from matplotlib import pyplot\n",
    "from xgboost import XGBClassifier\n",
    "from xgboost import plot_importance\n",
    "from fancyimpute import KNN,SoftImpute\n",
    "import joblib\n",
    "%matplotlib inline"
   ]
  },
  {
   "cell_type": "code",
   "execution_count": null,
   "id": "4bb710c3",
   "metadata": {},
   "outputs": [],
   "source": [
    "# Data ingestion\n",
    "data=pd.read_csv(\"G:\\\\DATA_SETS\\\\LOAN_ELIGIBILITY_PREDICTOR_USING_GRADIENT_BOOSTING\\\\DATA_AND_SOLUTION\\\\LoansTrainingSetV2.csv\",low_memory=False)"
   ]
  },
  {
   "cell_type": "code",
   "execution_count": 144,
   "id": "939b5a10",
   "metadata": {},
   "outputs": [
    {
     "data": {
      "text/html": [
       "<div>\n",
       "<style scoped>\n",
       "    .dataframe tbody tr th:only-of-type {\n",
       "        vertical-align: middle;\n",
       "    }\n",
       "\n",
       "    .dataframe tbody tr th {\n",
       "        vertical-align: top;\n",
       "    }\n",
       "\n",
       "    .dataframe thead th {\n",
       "        text-align: right;\n",
       "    }\n",
       "</style>\n",
       "<table border=\"1\" class=\"dataframe\">\n",
       "  <thead>\n",
       "    <tr style=\"text-align: right;\">\n",
       "      <th></th>\n",
       "      <th>Loan ID</th>\n",
       "      <th>Customer ID</th>\n",
       "      <th>Loan Status</th>\n",
       "      <th>Current Loan Amount</th>\n",
       "      <th>Term</th>\n",
       "      <th>Credit Score</th>\n",
       "      <th>Years in current job</th>\n",
       "      <th>Home Ownership</th>\n",
       "      <th>Annual Income</th>\n",
       "      <th>Purpose</th>\n",
       "      <th>Monthly Debt</th>\n",
       "      <th>Years of Credit History</th>\n",
       "      <th>Months since last delinquent</th>\n",
       "      <th>Number of Open Accounts</th>\n",
       "      <th>Number of Credit Problems</th>\n",
       "      <th>Current Credit Balance</th>\n",
       "      <th>Maximum Open Credit</th>\n",
       "      <th>Bankruptcies</th>\n",
       "      <th>Tax Liens</th>\n",
       "      <th>Credit Score_1</th>\n",
       "    </tr>\n",
       "  </thead>\n",
       "  <tbody>\n",
       "    <tr>\n",
       "      <th>0</th>\n",
       "      <td>6cf51492-02a2-423e-b93d-676f05b9ad53</td>\n",
       "      <td>7c202b37-2add-44e8-9aea-d5b119aea935</td>\n",
       "      <td>0</td>\n",
       "      <td>12232</td>\n",
       "      <td>0</td>\n",
       "      <td>728.0</td>\n",
       "      <td>0</td>\n",
       "      <td>0</td>\n",
       "      <td>46643.0</td>\n",
       "      <td>0</td>\n",
       "      <td>777.39</td>\n",
       "      <td>18.0</td>\n",
       "      <td>10.0</td>\n",
       "      <td>12</td>\n",
       "      <td>0</td>\n",
       "      <td>6762.0</td>\n",
       "      <td>7946.0</td>\n",
       "      <td>0.0</td>\n",
       "      <td>0.0</td>\n",
       "      <td>728.0</td>\n",
       "    </tr>\n",
       "    <tr>\n",
       "      <th>1</th>\n",
       "      <td>552e7ade-4292-4354-9ff9-c48031697d72</td>\n",
       "      <td>e7217b0a-07ac-47dd-b379-577b5a35b7c6</td>\n",
       "      <td>0</td>\n",
       "      <td>25014</td>\n",
       "      <td>1</td>\n",
       "      <td>733.0</td>\n",
       "      <td>1</td>\n",
       "      <td>1</td>\n",
       "      <td>81099.0</td>\n",
       "      <td>0</td>\n",
       "      <td>892.09</td>\n",
       "      <td>26.7</td>\n",
       "      <td>NaN</td>\n",
       "      <td>14</td>\n",
       "      <td>0</td>\n",
       "      <td>35706.0</td>\n",
       "      <td>77961.0</td>\n",
       "      <td>0.0</td>\n",
       "      <td>0.0</td>\n",
       "      <td>733.0</td>\n",
       "    </tr>\n",
       "    <tr>\n",
       "      <th>2</th>\n",
       "      <td>9b5e32b3-8d76-4801-afc8-d729d5a2e6b9</td>\n",
       "      <td>0a62fc41-16c8-40b5-92ff-9e4b763ce714</td>\n",
       "      <td>0</td>\n",
       "      <td>16117</td>\n",
       "      <td>0</td>\n",
       "      <td>724.0</td>\n",
       "      <td>2</td>\n",
       "      <td>1</td>\n",
       "      <td>60438.0</td>\n",
       "      <td>1</td>\n",
       "      <td>1244.02</td>\n",
       "      <td>16.7</td>\n",
       "      <td>32.0</td>\n",
       "      <td>11</td>\n",
       "      <td>1</td>\n",
       "      <td>11275.0</td>\n",
       "      <td>14815.0</td>\n",
       "      <td>1.0</td>\n",
       "      <td>0.0</td>\n",
       "      <td>724.0</td>\n",
       "    </tr>\n",
       "    <tr>\n",
       "      <th>3</th>\n",
       "      <td>5419b7c7-ac11-4be2-a8a7-b131fb6d6dbe</td>\n",
       "      <td>30f36c59-5182-4482-8bbb-5b736849ae43</td>\n",
       "      <td>0</td>\n",
       "      <td>11716</td>\n",
       "      <td>0</td>\n",
       "      <td>740.0</td>\n",
       "      <td>3</td>\n",
       "      <td>0</td>\n",
       "      <td>34171.0</td>\n",
       "      <td>0</td>\n",
       "      <td>990.94</td>\n",
       "      <td>10.0</td>\n",
       "      <td>NaN</td>\n",
       "      <td>21</td>\n",
       "      <td>0</td>\n",
       "      <td>7009.0</td>\n",
       "      <td>43533.0</td>\n",
       "      <td>0.0</td>\n",
       "      <td>0.0</td>\n",
       "      <td>740.0</td>\n",
       "    </tr>\n",
       "    <tr>\n",
       "      <th>4</th>\n",
       "      <td>1450910f-9495-4fc9-afaf-9bdf4b9821df</td>\n",
       "      <td>70c26012-bba5-42c0-8dcb-75295ada31bb</td>\n",
       "      <td>0</td>\n",
       "      <td>9789</td>\n",
       "      <td>1</td>\n",
       "      <td>686.0</td>\n",
       "      <td>1</td>\n",
       "      <td>1</td>\n",
       "      <td>47003.0</td>\n",
       "      <td>1</td>\n",
       "      <td>503.71</td>\n",
       "      <td>16.7</td>\n",
       "      <td>25.0</td>\n",
       "      <td>13</td>\n",
       "      <td>1</td>\n",
       "      <td>16913.0</td>\n",
       "      <td>19553.0</td>\n",
       "      <td>1.0</td>\n",
       "      <td>0.0</td>\n",
       "      <td>686.0</td>\n",
       "    </tr>\n",
       "  </tbody>\n",
       "</table>\n",
       "</div>"
      ],
      "text/plain": [
       "                                Loan ID                           Customer ID  \\\n",
       "0  6cf51492-02a2-423e-b93d-676f05b9ad53  7c202b37-2add-44e8-9aea-d5b119aea935   \n",
       "1  552e7ade-4292-4354-9ff9-c48031697d72  e7217b0a-07ac-47dd-b379-577b5a35b7c6   \n",
       "2  9b5e32b3-8d76-4801-afc8-d729d5a2e6b9  0a62fc41-16c8-40b5-92ff-9e4b763ce714   \n",
       "3  5419b7c7-ac11-4be2-a8a7-b131fb6d6dbe  30f36c59-5182-4482-8bbb-5b736849ae43   \n",
       "4  1450910f-9495-4fc9-afaf-9bdf4b9821df  70c26012-bba5-42c0-8dcb-75295ada31bb   \n",
       "\n",
       "   Loan Status  Current Loan Amount  Term  Credit Score  Years in current job  \\\n",
       "0            0                12232     0         728.0                     0   \n",
       "1            0                25014     1         733.0                     1   \n",
       "2            0                16117     0         724.0                     2   \n",
       "3            0                11716     0         740.0                     3   \n",
       "4            0                 9789     1         686.0                     1   \n",
       "\n",
       "   Home Ownership  Annual Income  Purpose  Monthly Debt  \\\n",
       "0               0        46643.0        0        777.39   \n",
       "1               1        81099.0        0        892.09   \n",
       "2               1        60438.0        1       1244.02   \n",
       "3               0        34171.0        0        990.94   \n",
       "4               1        47003.0        1        503.71   \n",
       "\n",
       "   Years of Credit History  Months since last delinquent  \\\n",
       "0                     18.0                          10.0   \n",
       "1                     26.7                           NaN   \n",
       "2                     16.7                          32.0   \n",
       "3                     10.0                           NaN   \n",
       "4                     16.7                          25.0   \n",
       "\n",
       "   Number of Open Accounts  Number of Credit Problems  Current Credit Balance  \\\n",
       "0                       12                          0                  6762.0   \n",
       "1                       14                          0                 35706.0   \n",
       "2                       11                          1                 11275.0   \n",
       "3                       21                          0                  7009.0   \n",
       "4                       13                          1                 16913.0   \n",
       "\n",
       "   Maximum Open Credit  Bankruptcies  Tax Liens  Credit Score_1  \n",
       "0               7946.0           0.0        0.0           728.0  \n",
       "1              77961.0           0.0        0.0           733.0  \n",
       "2              14815.0           1.0        0.0           724.0  \n",
       "3              43533.0           0.0        0.0           740.0  \n",
       "4              19553.0           1.0        0.0           686.0  "
      ]
     },
     "execution_count": 144,
     "metadata": {},
     "output_type": "execute_result"
    }
   ],
   "source": [
    "###############################EDA Starts here###########################\n",
    "data.head()"
   ]
  },
  {
   "cell_type": "code",
   "execution_count": null,
   "id": "1f619a3d",
   "metadata": {},
   "outputs": [],
   "source": [
    "data.dtypes\n",
    "# Loan ID                          object\n",
    "# Customer ID                      object\n",
    "# Loan Status                      object\n",
    "# Current Loan Amount               int64\n",
    "# Term                             object\n",
    "# Credit Score                    float64\n",
    "# Years in current job             object   # May need to bucket/ factorize\n",
    "# Home Ownership                   object\n",
    "# Annual Income                   float64\n",
    "# Purpose                          object\n",
    "# Monthly Debt                     object   # Need to be converted to float\n",
    "# Years of Credit History         float64\n",
    "# Months since last delinquent    float64   # NaN needs to be handled\n",
    "# Number of Open Accounts           int64\n",
    "# Number of Credit Problems         int64\n",
    "# Current Credit Balance            int64\n",
    "# Maximum Open Credit              object  # Need Convertion to int\n",
    "# Bankruptcies                    float64\n",
    "# Tax Liens                       float64\n",
    "# dtype: object"
   ]
  },
  {
   "cell_type": "code",
   "execution_count": null,
   "id": "d5b5b0bc",
   "metadata": {},
   "outputs": [],
   "source": [
    "data.shape   # (111107, 19)"
   ]
  },
  {
   "cell_type": "code",
   "execution_count": null,
   "id": "b4d37bdd",
   "metadata": {},
   "outputs": [],
   "source": [
    "##Drop duplicate LOAN ID if they exist\n",
    "data.drop_duplicates(subset=\"Loan ID\",keep='first',inplace=True)\n",
    "len(data)            # 88910. So there were duplicates"
   ]
  },
  {
   "cell_type": "code",
   "execution_count": 10,
   "id": "1844820e",
   "metadata": {},
   "outputs": [
    {
     "data": {
      "image/png": "[encoded data removed]",
      "text/plain": [
       "<Figure size 720x360 with 1 Axes>"
      ]
     },
     "metadata": {
      "needs_background": "light"
     },
     "output_type": "display_data"
    }
   ],
   "source": [
    "##PLotting the loan status \n",
    "status=data[\"Loan Status\"].value_counts() \n",
    "plt.figure(figsize=(10,5))\n",
    "sns.barplot(x=status.index, y=status.values, alpha=0.8)\n",
    "plt.title('Loan Status distribution')\n",
    "plt.ylabel('Number of Occurrences', fontsize=12)\n",
    "plt.xlabel('Loan Status', fontsize=12)\n",
    "plt.show()"
   ]
  },
  {
   "cell_type": "code",
   "execution_count": 11,
   "id": "8eef11b7",
   "metadata": {},
   "outputs": [
    {
     "data": {
      "text/plain": [
       "count    8.891000e+04\n",
       "mean     1.433878e+07\n",
       "std      3.502996e+07\n",
       "min      4.910000e+02\n",
       "25%      8.283000e+03\n",
       "50%      1.435500e+04\n",
       "75%      2.448500e+04\n",
       "max      1.000000e+08\n",
       "Name: Current Loan Amount, dtype: float64"
      ]
     },
     "execution_count": 11,
     "metadata": {},
     "output_type": "execute_result"
    }
   ],
   "source": [
    "# Bring data in proper format column by column\n",
    "# Analysing Current Loan Amount column\n",
    "data[\"Current Loan Amount\"].describe()\n",
    "# Min amount = 491 and max amount is 100000000"
   ]
  },
  {
   "cell_type": "code",
   "execution_count": 12,
   "id": "9fee1637",
   "metadata": {},
   "outputs": [
    {
     "data": {
      "image/png": "[encoded data removed]",
      "text/plain": [
       "<Figure size 432x288 with 1 Axes>"
      ]
     },
     "metadata": {
      "needs_background": "light"
     },
     "output_type": "display_data"
    }
   ],
   "source": [
    "data[\"Current Loan Amount\"].plot.hist(grid=True, bins=20, rwidth=0.9,color='#607c8e')\n",
    "plt.title('Current Loan Amount')\n",
    "plt.xlabel('Current Loan Amount')\n",
    "plt.ylabel('Count')\n",
    "plt.grid(axis='y', alpha=0.75)"
   ]
  },
  {
   "cell_type": "code",
   "execution_count": null,
   "id": "4fd92c57",
   "metadata": {},
   "outputs": [],
   "source": [
    "#Finding Inter Quartile Range for outlier removal\n",
    "Q1 = data[\"Current Loan Amount\"].quantile(0.25)\n",
    "Q3 = data[\"Current Loan Amount\"].quantile(0.75)\n",
    "IQR = Q3 - Q1\n",
    "print(IQR)           #16202.0"
   ]
  },
  {
   "cell_type": "code",
   "execution_count": 14,
   "id": "55cfaec8",
   "metadata": {},
   "outputs": [
    {
     "data": {
      "text/plain": [
       "5044     99999999\n",
       "5045     99999999\n",
       "5046     99999999\n",
       "5047     99999999\n",
       "5048     99999999\n",
       "           ...   \n",
       "17777    99999999\n",
       "17778    99999999\n",
       "17779    99999999\n",
       "17780    99999999\n",
       "17781    99999999\n",
       "Name: Current Loan Amount, Length: 12738, dtype: int64"
      ]
     },
     "execution_count": 14,
     "metadata": {},
     "output_type": "execute_result"
    }
   ],
   "source": [
    "# Observations lying at  >1.5 IQR on either end are outliers. View them\n",
    "data[\"Current Loan Amount\"][((data[\"Current Loan Amount\"] < (Q1 - 1.5 * IQR)) |(data[\"Current Loan Amount\"] > (Q3 + 1.5 * IQR)))]"
   ]
  },
  {
   "cell_type": "code",
   "execution_count": 15,
   "id": "d08db54e",
   "metadata": {},
   "outputs": [],
   "source": [
    "# Store Current_Loan_Amount values as a  temporary list\n",
    "temp=np.array(data[\"Current Loan Amount\"].values.tolist())\n",
    "# Replace whereever temp>9999998 by NaN and store as new column\n",
    "# \"Current Loan Amount_temp\"\n",
    "data[\"Current Loan Amount_temp\"] = np.where(temp > 9999998, 'NaN', temp).tolist()"
   ]
  },
  {
   "cell_type": "code",
   "execution_count": 16,
   "id": "50c8b14d",
   "metadata": {},
   "outputs": [
    {
     "data": {
      "text/plain": [
       "<AxesSubplot:ylabel='Frequency'>"
      ]
     },
     "execution_count": 16,
     "metadata": {},
     "output_type": "execute_result"
    },
    {
     "data": {
      "image/png": "[encoded data removed]",
      "text/plain": [
       "<Figure size 432x288 with 1 Axes>"
      ]
     },
     "metadata": {
      "needs_background": "light"
     },
     "output_type": "display_data"
    }
   ],
   "source": [
    "# Keep only non NaN values in tempdf and plot histogram of tempdf\n",
    "tempdf=data[\"Current Loan Amount_temp\"][data[\"Current Loan Amount_temp\"]!='NaN'].astype(str).astype(int)\n",
    "tempdf.plot.hist(grid=True, bins=20, rwidth=0.9,color='#607c8e')"
   ]
  },
  {
   "cell_type": "code",
   "execution_count": 17,
   "id": "3f4fb387",
   "metadata": {},
   "outputs": [
    {
     "data": {
      "text/plain": [
       "count    8.891000e+04\n",
       "mean     1.433878e+07\n",
       "std      3.502996e+07\n",
       "min      4.910000e+02\n",
       "25%      8.283000e+03\n",
       "50%      1.435500e+04\n",
       "75%      2.448500e+04\n",
       "max      1.000000e+08\n",
       "Name: Current Loan Amount, dtype: float64"
      ]
     },
     "execution_count": 17,
     "metadata": {},
     "output_type": "execute_result"
    }
   ],
   "source": [
    "data[\"Current Loan Amount\"].describe()"
   ]
  },
  {
   "cell_type": "code",
   "execution_count": 18,
   "id": "320d812f",
   "metadata": {},
   "outputs": [],
   "source": [
    "#Replacing the values>9999998 with 50% percentile value i.e. 14355\n",
    "tempdf2=np.array(data[\"Current Loan Amount\"].values.tolist())\n",
    "data[\"Current Loan Amount\"] = np.where(tempdf2 > 9999998,14355,tempdf2).tolist()\n",
    "# Drop colummn 'Current Loan Amount_temp'.It was needed just to plot historam\n",
    "data=data.drop(['Current Loan Amount_temp'],axis=1)"
   ]
  },
  {
   "cell_type": "code",
   "execution_count": null,
   "id": "a844b036",
   "metadata": {},
   "outputs": [],
   "source": [
    "data.dtypes\n",
    "# Loan ID                          object\n",
    "# Customer ID                      object\n",
    "# Loan Status                      object\n",
    "# Current Loan Amount               int64\n",
    "# Term                             object\n",
    "# Credit Score                    float64\n",
    "# Years in current job             object\n",
    "# Home Ownership                   object\n",
    "# Annual Income                   float64\n",
    "# Purpose                          object\n",
    "# Monthly Debt                     object  # Need to be converted to float\n",
    "# Years of Credit History         float64\n",
    "# Months since last delinquent    float64  # NaN needs to be handled\n",
    "# Number of Open Accounts           int64\n",
    "# Number of Credit Problems         int64\n",
    "# Current Credit Balance            int64\n",
    "# Maximum Open Credit              object  # Need Convertion to int\n",
    "# Bankruptcies                    float64\n",
    "# Tax Liens                       float64"
   ]
  },
  {
   "cell_type": "code",
   "execution_count": 20,
   "id": "7263367d",
   "metadata": {
    "scrolled": true
   },
   "outputs": [
    {
     "data": {
      "image/png": "[encoded data removed]",
      "text/plain": [
       "<Figure size 720x360 with 1 Axes>"
      ]
     },
     "metadata": {
      "needs_background": "light"
     },
     "output_type": "display_data"
    }
   ],
   "source": [
    "# Analysing column 'Term'\n",
    "status=data[\"Term\"].value_counts() \n",
    "plt.figure(figsize=(10,5))\n",
    "sns.barplot(x=status.index, y=status.values, alpha=0.8)\n",
    "plt.title('Loan Term distribution')\n",
    "plt.ylabel('Number of Occurrences', fontsize=12)\n",
    "plt.xlabel('Loan term', fontsize=12)\n",
    "plt.show()"
   ]
  },
  {
   "cell_type": "code",
   "execution_count": 21,
   "id": "081a8c01",
   "metadata": {},
   "outputs": [
    {
     "data": {
      "text/plain": [
       "count    67572.000000\n",
       "mean      1199.199580\n",
       "std       1680.813805\n",
       "min        585.000000\n",
       "25%        714.000000\n",
       "50%        733.000000\n",
       "75%        744.000000\n",
       "max       7510.000000\n",
       "Name: Credit Score, dtype: float64"
      ]
     },
     "execution_count": 21,
     "metadata": {},
     "output_type": "execute_result"
    }
   ],
   "source": [
    "##### Analysing column Credit Score#############\n",
    "data[\"Credit Score\"].describe()\n",
    "# It should be between 0-800 but here max is 7510. \n",
    "# So outlier removal required"
   ]
  },
  {
   "cell_type": "code",
   "execution_count": null,
   "id": "e6b888a7",
   "metadata": {},
   "outputs": [],
   "source": [
    "# Check the \"Credit Score\" column for NaN.\n",
    "if np.isnan(data[\"Credit Score\"]).any():\n",
    "  print(\"There are NaN values.\")             # There are NaN values."
   ]
  },
  {
   "cell_type": "code",
   "execution_count": 23,
   "id": "f0104b06",
   "metadata": {},
   "outputs": [
    {
     "data": {
      "text/html": [
       "<div>\n",
       "<style scoped>\n",
       "    .dataframe tbody tr th:only-of-type {\n",
       "        vertical-align: middle;\n",
       "    }\n",
       "\n",
       "    .dataframe tbody tr th {\n",
       "        vertical-align: top;\n",
       "    }\n",
       "\n",
       "    .dataframe thead th {\n",
       "        text-align: right;\n",
       "    }\n",
       "</style>\n",
       "<table border=\"1\" class=\"dataframe\">\n",
       "  <thead>\n",
       "    <tr style=\"text-align: right;\">\n",
       "      <th></th>\n",
       "      <th>Current Loan Amount</th>\n",
       "      <th>Credit Score</th>\n",
       "      <th>Annual Income</th>\n",
       "      <th>Years of Credit History</th>\n",
       "      <th>Months since last delinquent</th>\n",
       "      <th>Number of Open Accounts</th>\n",
       "      <th>Number of Credit Problems</th>\n",
       "      <th>Current Credit Balance</th>\n",
       "      <th>Bankruptcies</th>\n",
       "      <th>Tax Liens</th>\n",
       "    </tr>\n",
       "  </thead>\n",
       "  <tbody>\n",
       "    <tr>\n",
       "      <th>count</th>\n",
       "      <td>67572.000000</td>\n",
       "      <td>67572.000000</td>\n",
       "      <td>6.757200e+04</td>\n",
       "      <td>67572.000000</td>\n",
       "      <td>30685.000000</td>\n",
       "      <td>67572.000000</td>\n",
       "      <td>67572.000000</td>\n",
       "      <td>6.757200e+04</td>\n",
       "      <td>67425.000000</td>\n",
       "      <td>67568.000000</td>\n",
       "    </tr>\n",
       "    <tr>\n",
       "      <th>mean</th>\n",
       "      <td>14040.616113</td>\n",
       "      <td>1199.199580</td>\n",
       "      <td>7.234575e+04</td>\n",
       "      <td>18.326576</td>\n",
       "      <td>35.107056</td>\n",
       "      <td>11.123557</td>\n",
       "      <td>0.160125</td>\n",
       "      <td>1.544597e+04</td>\n",
       "      <td>0.112466</td>\n",
       "      <td>0.028682</td>\n",
       "    </tr>\n",
       "    <tr>\n",
       "      <th>std</th>\n",
       "      <td>7426.804832</td>\n",
       "      <td>1680.813805</td>\n",
       "      <td>5.836101e+04</td>\n",
       "      <td>7.040868</td>\n",
       "      <td>21.988422</td>\n",
       "      <td>4.991908</td>\n",
       "      <td>0.475961</td>\n",
       "      <td>1.991152e+04</td>\n",
       "      <td>0.343428</td>\n",
       "      <td>0.263474</td>\n",
       "    </tr>\n",
       "    <tr>\n",
       "      <th>min</th>\n",
       "      <td>511.000000</td>\n",
       "      <td>585.000000</td>\n",
       "      <td>4.033000e+03</td>\n",
       "      <td>3.800000</td>\n",
       "      <td>0.000000</td>\n",
       "      <td>1.000000</td>\n",
       "      <td>0.000000</td>\n",
       "      <td>0.000000e+00</td>\n",
       "      <td>0.000000</td>\n",
       "      <td>0.000000</td>\n",
       "    </tr>\n",
       "    <tr>\n",
       "      <th>25%</th>\n",
       "      <td>8834.750000</td>\n",
       "      <td>714.000000</td>\n",
       "      <td>4.458600e+04</td>\n",
       "      <td>13.500000</td>\n",
       "      <td>16.000000</td>\n",
       "      <td>8.000000</td>\n",
       "      <td>0.000000</td>\n",
       "      <td>5.965000e+03</td>\n",
       "      <td>0.000000</td>\n",
       "      <td>0.000000</td>\n",
       "    </tr>\n",
       "    <tr>\n",
       "      <th>50%</th>\n",
       "      <td>14355.000000</td>\n",
       "      <td>733.000000</td>\n",
       "      <td>6.149400e+04</td>\n",
       "      <td>17.000000</td>\n",
       "      <td>32.000000</td>\n",
       "      <td>10.000000</td>\n",
       "      <td>0.000000</td>\n",
       "      <td>1.108900e+04</td>\n",
       "      <td>0.000000</td>\n",
       "      <td>0.000000</td>\n",
       "    </tr>\n",
       "    <tr>\n",
       "      <th>75%</th>\n",
       "      <td>17017.000000</td>\n",
       "      <td>744.000000</td>\n",
       "      <td>8.675025e+04</td>\n",
       "      <td>21.800000</td>\n",
       "      <td>51.000000</td>\n",
       "      <td>14.000000</td>\n",
       "      <td>0.000000</td>\n",
       "      <td>1.931825e+04</td>\n",
       "      <td>0.000000</td>\n",
       "      <td>0.000000</td>\n",
       "    </tr>\n",
       "    <tr>\n",
       "      <th>max</th>\n",
       "      <td>35872.000000</td>\n",
       "      <td>7510.000000</td>\n",
       "      <td>8.713547e+06</td>\n",
       "      <td>70.500000</td>\n",
       "      <td>176.000000</td>\n",
       "      <td>76.000000</td>\n",
       "      <td>15.000000</td>\n",
       "      <td>1.730472e+06</td>\n",
       "      <td>7.000000</td>\n",
       "      <td>15.000000</td>\n",
       "    </tr>\n",
       "  </tbody>\n",
       "</table>\n",
       "</div>"
      ],
      "text/plain": [
       "       Current Loan Amount  Credit Score  Annual Income  \\\n",
       "count         67572.000000  67572.000000   6.757200e+04   \n",
       "mean          14040.616113   1199.199580   7.234575e+04   \n",
       "std            7426.804832   1680.813805   5.836101e+04   \n",
       "min             511.000000    585.000000   4.033000e+03   \n",
       "25%            8834.750000    714.000000   4.458600e+04   \n",
       "50%           14355.000000    733.000000   6.149400e+04   \n",
       "75%           17017.000000    744.000000   8.675025e+04   \n",
       "max           35872.000000   7510.000000   8.713547e+06   \n",
       "\n",
       "       Years of Credit History  Months since last delinquent  \\\n",
       "count             67572.000000                  30685.000000   \n",
       "mean                 18.326576                     35.107056   \n",
       "std                   7.040868                     21.988422   \n",
       "min                   3.800000                      0.000000   \n",
       "25%                  13.500000                     16.000000   \n",
       "50%                  17.000000                     32.000000   \n",
       "75%                  21.800000                     51.000000   \n",
       "max                  70.500000                    176.000000   \n",
       "\n",
       "       Number of Open Accounts  Number of Credit Problems  \\\n",
       "count             67572.000000               67572.000000   \n",
       "mean                 11.123557                   0.160125   \n",
       "std                   4.991908                   0.475961   \n",
       "min                   1.000000                   0.000000   \n",
       "25%                   8.000000                   0.000000   \n",
       "50%                  10.000000                   0.000000   \n",
       "75%                  14.000000                   0.000000   \n",
       "max                  76.000000                  15.000000   \n",
       "\n",
       "       Current Credit Balance  Bankruptcies     Tax Liens  \n",
       "count            6.757200e+04  67425.000000  67568.000000  \n",
       "mean             1.544597e+04      0.112466      0.028682  \n",
       "std              1.991152e+04      0.343428      0.263474  \n",
       "min              0.000000e+00      0.000000      0.000000  \n",
       "25%              5.965000e+03      0.000000      0.000000  \n",
       "50%              1.108900e+04      0.000000      0.000000  \n",
       "75%              1.931825e+04      0.000000      0.000000  \n",
       "max              1.730472e+06      7.000000     15.000000  "
      ]
     },
     "execution_count": 23,
     "metadata": {},
     "output_type": "execute_result"
    }
   ],
   "source": [
    "# If there are NaNs, store the column in temp1 after dropping them\n",
    "tempdf3 = data.dropna(subset=[\"Credit Score\"])\n",
    "tempdf3.describe()"
   ]
  },
  {
   "cell_type": "code",
   "execution_count": 24,
   "id": "e502150a",
   "metadata": {},
   "outputs": [
    {
     "data": {
      "text/plain": [
       "{'whiskers': [<matplotlib.lines.Line2D at 0x1f939572580>,\n",
       "  <matplotlib.lines.Line2D at 0x1f939572850>],\n",
       " 'caps': [<matplotlib.lines.Line2D at 0x1f939572be0>,\n",
       "  <matplotlib.lines.Line2D at 0x1f939572f70>],\n",
       " 'boxes': [<matplotlib.lines.Line2D at 0x1f939572130>],\n",
       " 'medians': [<matplotlib.lines.Line2D at 0x1f93957c340>],\n",
       " 'fliers': [<matplotlib.lines.Line2D at 0x1f93957c6d0>],\n",
       " 'means': []}"
      ]
     },
     "execution_count": 24,
     "metadata": {},
     "output_type": "execute_result"
    },
    {
     "data": {
      "image/png": "[encoded data removed]",
      "text/plain": [
       "<Figure size 432x288 with 1 Axes>"
      ]
     },
     "metadata": {
      "needs_background": "light"
     },
     "output_type": "display_data"
    }
   ],
   "source": [
    "plt.boxplot(tempdf3[\"Credit Score\"])\n",
    "# Values of credit score between ~801 and 7510 are clearly impossible.\n",
    "# as credit score can only be between 0-800. So many outliers present"
   ]
  },
  {
   "cell_type": "code",
   "execution_count": 25,
   "id": "368819ef",
   "metadata": {},
   "outputs": [],
   "source": [
    "# Treating outliers in column \"Credit Score\"\n",
    "# Divide values greater than 800 by 10.\n",
    "# Assumption here is that a 0 was added by mistake at the end. \n",
    "# E.g. a score of 751 was entered as 7510\n",
    "data[\"Credit Score\"]=np.where(data[\"Credit Score\"]>800, data[\"Credit Score\"]/10, data[\"Credit Score\"])\n",
    "# Find median Credit Score\n",
    "median_score=statistics.median(data[\"Credit Score\"])\n",
    "# Create additional column 'Credit Score1' with the modified \"Credit Score\" column\n",
    "# Then replace missing values by median.\n",
    "data[\"Credit Score_1\"]=data[\"Credit Score\"]\n",
    "data[\"Credit Score_1\"].fillna(median_score, inplace = True) "
   ]
  },
  {
   "cell_type": "code",
   "execution_count": 26,
   "id": "c7d41c65",
   "metadata": {},
   "outputs": [
    {
     "data": {
      "text/html": [
       "<div>\n",
       "<style scoped>\n",
       "    .dataframe tbody tr th:only-of-type {\n",
       "        vertical-align: middle;\n",
       "    }\n",
       "\n",
       "    .dataframe tbody tr th {\n",
       "        vertical-align: top;\n",
       "    }\n",
       "\n",
       "    .dataframe thead th {\n",
       "        text-align: right;\n",
       "    }\n",
       "</style>\n",
       "<table border=\"1\" class=\"dataframe\">\n",
       "  <thead>\n",
       "    <tr style=\"text-align: right;\">\n",
       "      <th></th>\n",
       "      <th>Current Loan Amount</th>\n",
       "      <th>Credit Score</th>\n",
       "      <th>Annual Income</th>\n",
       "      <th>Years of Credit History</th>\n",
       "      <th>Months since last delinquent</th>\n",
       "      <th>Number of Open Accounts</th>\n",
       "      <th>Number of Credit Problems</th>\n",
       "      <th>Current Credit Balance</th>\n",
       "      <th>Bankruptcies</th>\n",
       "      <th>Tax Liens</th>\n",
       "      <th>Credit Score_1</th>\n",
       "    </tr>\n",
       "  </thead>\n",
       "  <tbody>\n",
       "    <tr>\n",
       "      <th>count</th>\n",
       "      <td>88910.000000</td>\n",
       "      <td>67572.000000</td>\n",
       "      <td>6.757200e+04</td>\n",
       "      <td>88910.000000</td>\n",
       "      <td>40404.000000</td>\n",
       "      <td>88910.000000</td>\n",
       "      <td>88910.000000</td>\n",
       "      <td>8.891000e+04</td>\n",
       "      <td>88718.000000</td>\n",
       "      <td>88902.000000</td>\n",
       "      <td>88910.000000</td>\n",
       "    </tr>\n",
       "    <tr>\n",
       "      <th>mean</th>\n",
       "      <td>13994.243853</td>\n",
       "      <td>721.601951</td>\n",
       "      <td>7.234575e+04</td>\n",
       "      <td>18.315313</td>\n",
       "      <td>35.080289</td>\n",
       "      <td>11.110348</td>\n",
       "      <td>0.160477</td>\n",
       "      <td>1.543593e+04</td>\n",
       "      <td>0.112672</td>\n",
       "      <td>0.028222</td>\n",
       "      <td>712.817647</td>\n",
       "    </tr>\n",
       "    <tr>\n",
       "      <th>std</th>\n",
       "      <td>7624.572465</td>\n",
       "      <td>27.427709</td>\n",
       "      <td>5.836101e+04</td>\n",
       "      <td>7.049175</td>\n",
       "      <td>22.008583</td>\n",
       "      <td>4.978461</td>\n",
       "      <td>0.473746</td>\n",
       "      <td>1.965873e+04</td>\n",
       "      <td>0.343300</td>\n",
       "      <td>0.257533</td>\n",
       "      <td>28.567376</td>\n",
       "    </tr>\n",
       "    <tr>\n",
       "      <th>min</th>\n",
       "      <td>491.000000</td>\n",
       "      <td>585.000000</td>\n",
       "      <td>4.033000e+03</td>\n",
       "      <td>3.600000</td>\n",
       "      <td>0.000000</td>\n",
       "      <td>0.000000</td>\n",
       "      <td>0.000000</td>\n",
       "      <td>0.000000e+00</td>\n",
       "      <td>0.000000</td>\n",
       "      <td>0.000000</td>\n",
       "      <td>585.000000</td>\n",
       "    </tr>\n",
       "    <tr>\n",
       "      <th>25%</th>\n",
       "      <td>8283.000000</td>\n",
       "      <td>710.000000</td>\n",
       "      <td>4.458600e+04</td>\n",
       "      <td>13.500000</td>\n",
       "      <td>16.000000</td>\n",
       "      <td>8.000000</td>\n",
       "      <td>0.000000</td>\n",
       "      <td>5.949000e+03</td>\n",
       "      <td>0.000000</td>\n",
       "      <td>0.000000</td>\n",
       "      <td>685.000000</td>\n",
       "    </tr>\n",
       "    <tr>\n",
       "      <th>50%</th>\n",
       "      <td>14355.000000</td>\n",
       "      <td>730.000000</td>\n",
       "      <td>6.149400e+04</td>\n",
       "      <td>17.000000</td>\n",
       "      <td>32.000000</td>\n",
       "      <td>10.000000</td>\n",
       "      <td>0.000000</td>\n",
       "      <td>1.103900e+04</td>\n",
       "      <td>0.000000</td>\n",
       "      <td>0.000000</td>\n",
       "      <td>719.000000</td>\n",
       "    </tr>\n",
       "    <tr>\n",
       "      <th>75%</th>\n",
       "      <td>17705.750000</td>\n",
       "      <td>741.000000</td>\n",
       "      <td>8.675025e+04</td>\n",
       "      <td>21.800000</td>\n",
       "      <td>51.000000</td>\n",
       "      <td>14.000000</td>\n",
       "      <td>0.000000</td>\n",
       "      <td>1.930100e+04</td>\n",
       "      <td>0.000000</td>\n",
       "      <td>0.000000</td>\n",
       "      <td>739.000000</td>\n",
       "    </tr>\n",
       "    <tr>\n",
       "      <th>max</th>\n",
       "      <td>35875.000000</td>\n",
       "      <td>751.000000</td>\n",
       "      <td>8.713547e+06</td>\n",
       "      <td>70.500000</td>\n",
       "      <td>176.000000</td>\n",
       "      <td>76.000000</td>\n",
       "      <td>15.000000</td>\n",
       "      <td>1.730472e+06</td>\n",
       "      <td>7.000000</td>\n",
       "      <td>15.000000</td>\n",
       "      <td>751.000000</td>\n",
       "    </tr>\n",
       "  </tbody>\n",
       "</table>\n",
       "</div>"
      ],
      "text/plain": [
       "       Current Loan Amount  Credit Score  Annual Income  \\\n",
       "count         88910.000000  67572.000000   6.757200e+04   \n",
       "mean          13994.243853    721.601951   7.234575e+04   \n",
       "std            7624.572465     27.427709   5.836101e+04   \n",
       "min             491.000000    585.000000   4.033000e+03   \n",
       "25%            8283.000000    710.000000   4.458600e+04   \n",
       "50%           14355.000000    730.000000   6.149400e+04   \n",
       "75%           17705.750000    741.000000   8.675025e+04   \n",
       "max           35875.000000    751.000000   8.713547e+06   \n",
       "\n",
       "       Years of Credit History  Months since last delinquent  \\\n",
       "count             88910.000000                  40404.000000   \n",
       "mean                 18.315313                     35.080289   \n",
       "std                   7.049175                     22.008583   \n",
       "min                   3.600000                      0.000000   \n",
       "25%                  13.500000                     16.000000   \n",
       "50%                  17.000000                     32.000000   \n",
       "75%                  21.800000                     51.000000   \n",
       "max                  70.500000                    176.000000   \n",
       "\n",
       "       Number of Open Accounts  Number of Credit Problems  \\\n",
       "count             88910.000000               88910.000000   \n",
       "mean                 11.110348                   0.160477   \n",
       "std                   4.978461                   0.473746   \n",
       "min                   0.000000                   0.000000   \n",
       "25%                   8.000000                   0.000000   \n",
       "50%                  10.000000                   0.000000   \n",
       "75%                  14.000000                   0.000000   \n",
       "max                  76.000000                  15.000000   \n",
       "\n",
       "       Current Credit Balance  Bankruptcies     Tax Liens  Credit Score_1  \n",
       "count            8.891000e+04  88718.000000  88902.000000    88910.000000  \n",
       "mean             1.543593e+04      0.112672      0.028222      712.817647  \n",
       "std              1.965873e+04      0.343300      0.257533       28.567376  \n",
       "min              0.000000e+00      0.000000      0.000000      585.000000  \n",
       "25%              5.949000e+03      0.000000      0.000000      685.000000  \n",
       "50%              1.103900e+04      0.000000      0.000000      719.000000  \n",
       "75%              1.930100e+04      0.000000      0.000000      739.000000  \n",
       "max              1.730472e+06      7.000000     15.000000      751.000000  "
      ]
     },
     "execution_count": 26,
     "metadata": {},
     "output_type": "execute_result"
    }
   ],
   "source": [
    "data.describe()  \n",
    "# Credit_Score1 has 88910 rows like most other columns"
   ]
  },
  {
   "cell_type": "code",
   "execution_count": 27,
   "id": "69333b45",
   "metadata": {},
   "outputs": [
    {
     "data": {
      "text/plain": [
       "<seaborn.axisgrid.FacetGrid at 0x1f93d3322b0>"
      ]
     },
     "execution_count": 27,
     "metadata": {},
     "output_type": "execute_result"
    },
    {
     "data": {
      "image/png": "[encoded data removed]",
      "text/plain": [
       "<Figure size 360x360 with 1 Axes>"
      ]
     },
     "metadata": {
      "needs_background": "light"
     },
     "output_type": "display_data"
    }
   ],
   "source": [
    "sns.displot(data[\"Credit Score_1\"])\n",
    "# This data is skewed so when we replace NA with median\n",
    "# data distribution is highly skewed."
   ]
  },
  {
   "cell_type": "code",
   "execution_count": 28,
   "id": "11bcf73a",
   "metadata": {},
   "outputs": [
    {
     "data": {
      "text/plain": [
       "741.0"
      ]
     },
     "execution_count": 28,
     "metadata": {},
     "output_type": "execute_result"
    }
   ],
   "source": [
    "# Lets see value at 75th quantile\n",
    "x=data['Credit Score'].quantile(0.75)\n",
    "x   # 741.0"
   ]
  },
  {
   "cell_type": "code",
   "execution_count": 29,
   "id": "8c163bff",
   "metadata": {},
   "outputs": [],
   "source": [
    "# Replacing with 75th percentile (i.e. 741 from output of describe() above) \n",
    "# and taking log we may get a better distribution\n",
    "data[\"Credit Score\"].fillna(data['Credit Score'].quantile(0.75), inplace = True) "
   ]
  },
  {
   "cell_type": "code",
   "execution_count": 30,
   "id": "86578a19",
   "metadata": {},
   "outputs": [
    {
     "data": {
      "text/html": [
       "<div>\n",
       "<style scoped>\n",
       "    .dataframe tbody tr th:only-of-type {\n",
       "        vertical-align: middle;\n",
       "    }\n",
       "\n",
       "    .dataframe tbody tr th {\n",
       "        vertical-align: top;\n",
       "    }\n",
       "\n",
       "    .dataframe thead th {\n",
       "        text-align: right;\n",
       "    }\n",
       "</style>\n",
       "<table border=\"1\" class=\"dataframe\">\n",
       "  <thead>\n",
       "    <tr style=\"text-align: right;\">\n",
       "      <th></th>\n",
       "      <th>Current Loan Amount</th>\n",
       "      <th>Credit Score</th>\n",
       "      <th>Annual Income</th>\n",
       "      <th>Years of Credit History</th>\n",
       "      <th>Months since last delinquent</th>\n",
       "      <th>Number of Open Accounts</th>\n",
       "      <th>Number of Credit Problems</th>\n",
       "      <th>Current Credit Balance</th>\n",
       "      <th>Bankruptcies</th>\n",
       "      <th>Tax Liens</th>\n",
       "      <th>Credit Score_1</th>\n",
       "    </tr>\n",
       "  </thead>\n",
       "  <tbody>\n",
       "    <tr>\n",
       "      <th>count</th>\n",
       "      <td>88910.000000</td>\n",
       "      <td>88910.000000</td>\n",
       "      <td>6.757200e+04</td>\n",
       "      <td>88910.000000</td>\n",
       "      <td>40404.000000</td>\n",
       "      <td>88910.000000</td>\n",
       "      <td>88910.000000</td>\n",
       "      <td>8.891000e+04</td>\n",
       "      <td>88718.000000</td>\n",
       "      <td>88902.000000</td>\n",
       "      <td>88910.000000</td>\n",
       "    </tr>\n",
       "    <tr>\n",
       "      <th>mean</th>\n",
       "      <td>13994.243853</td>\n",
       "      <td>726.257395</td>\n",
       "      <td>7.234575e+04</td>\n",
       "      <td>18.315313</td>\n",
       "      <td>35.080289</td>\n",
       "      <td>11.110348</td>\n",
       "      <td>0.160477</td>\n",
       "      <td>1.543593e+04</td>\n",
       "      <td>0.112672</td>\n",
       "      <td>0.028222</td>\n",
       "      <td>712.817647</td>\n",
       "    </tr>\n",
       "    <tr>\n",
       "      <th>std</th>\n",
       "      <td>7624.572465</td>\n",
       "      <td>25.305488</td>\n",
       "      <td>5.836101e+04</td>\n",
       "      <td>7.049175</td>\n",
       "      <td>22.008583</td>\n",
       "      <td>4.978461</td>\n",
       "      <td>0.473746</td>\n",
       "      <td>1.965873e+04</td>\n",
       "      <td>0.343300</td>\n",
       "      <td>0.257533</td>\n",
       "      <td>28.567376</td>\n",
       "    </tr>\n",
       "    <tr>\n",
       "      <th>min</th>\n",
       "      <td>491.000000</td>\n",
       "      <td>585.000000</td>\n",
       "      <td>4.033000e+03</td>\n",
       "      <td>3.600000</td>\n",
       "      <td>0.000000</td>\n",
       "      <td>0.000000</td>\n",
       "      <td>0.000000</td>\n",
       "      <td>0.000000e+00</td>\n",
       "      <td>0.000000</td>\n",
       "      <td>0.000000</td>\n",
       "      <td>585.000000</td>\n",
       "    </tr>\n",
       "    <tr>\n",
       "      <th>25%</th>\n",
       "      <td>8283.000000</td>\n",
       "      <td>718.000000</td>\n",
       "      <td>4.458600e+04</td>\n",
       "      <td>13.500000</td>\n",
       "      <td>16.000000</td>\n",
       "      <td>8.000000</td>\n",
       "      <td>0.000000</td>\n",
       "      <td>5.949000e+03</td>\n",
       "      <td>0.000000</td>\n",
       "      <td>0.000000</td>\n",
       "      <td>685.000000</td>\n",
       "    </tr>\n",
       "    <tr>\n",
       "      <th>50%</th>\n",
       "      <td>14355.000000</td>\n",
       "      <td>738.000000</td>\n",
       "      <td>6.149400e+04</td>\n",
       "      <td>17.000000</td>\n",
       "      <td>32.000000</td>\n",
       "      <td>10.000000</td>\n",
       "      <td>0.000000</td>\n",
       "      <td>1.103900e+04</td>\n",
       "      <td>0.000000</td>\n",
       "      <td>0.000000</td>\n",
       "      <td>719.000000</td>\n",
       "    </tr>\n",
       "    <tr>\n",
       "      <th>75%</th>\n",
       "      <td>17705.750000</td>\n",
       "      <td>741.000000</td>\n",
       "      <td>8.675025e+04</td>\n",
       "      <td>21.800000</td>\n",
       "      <td>51.000000</td>\n",
       "      <td>14.000000</td>\n",
       "      <td>0.000000</td>\n",
       "      <td>1.930100e+04</td>\n",
       "      <td>0.000000</td>\n",
       "      <td>0.000000</td>\n",
       "      <td>739.000000</td>\n",
       "    </tr>\n",
       "    <tr>\n",
       "      <th>max</th>\n",
       "      <td>35875.000000</td>\n",
       "      <td>751.000000</td>\n",
       "      <td>8.713547e+06</td>\n",
       "      <td>70.500000</td>\n",
       "      <td>176.000000</td>\n",
       "      <td>76.000000</td>\n",
       "      <td>15.000000</td>\n",
       "      <td>1.730472e+06</td>\n",
       "      <td>7.000000</td>\n",
       "      <td>15.000000</td>\n",
       "      <td>751.000000</td>\n",
       "    </tr>\n",
       "  </tbody>\n",
       "</table>\n",
       "</div>"
      ],
      "text/plain": [
       "       Current Loan Amount  Credit Score  Annual Income  \\\n",
       "count         88910.000000  88910.000000   6.757200e+04   \n",
       "mean          13994.243853    726.257395   7.234575e+04   \n",
       "std            7624.572465     25.305488   5.836101e+04   \n",
       "min             491.000000    585.000000   4.033000e+03   \n",
       "25%            8283.000000    718.000000   4.458600e+04   \n",
       "50%           14355.000000    738.000000   6.149400e+04   \n",
       "75%           17705.750000    741.000000   8.675025e+04   \n",
       "max           35875.000000    751.000000   8.713547e+06   \n",
       "\n",
       "       Years of Credit History  Months since last delinquent  \\\n",
       "count             88910.000000                  40404.000000   \n",
       "mean                 18.315313                     35.080289   \n",
       "std                   7.049175                     22.008583   \n",
       "min                   3.600000                      0.000000   \n",
       "25%                  13.500000                     16.000000   \n",
       "50%                  17.000000                     32.000000   \n",
       "75%                  21.800000                     51.000000   \n",
       "max                  70.500000                    176.000000   \n",
       "\n",
       "       Number of Open Accounts  Number of Credit Problems  \\\n",
       "count             88910.000000               88910.000000   \n",
       "mean                 11.110348                   0.160477   \n",
       "std                   4.978461                   0.473746   \n",
       "min                   0.000000                   0.000000   \n",
       "25%                   8.000000                   0.000000   \n",
       "50%                  10.000000                   0.000000   \n",
       "75%                  14.000000                   0.000000   \n",
       "max                  76.000000                  15.000000   \n",
       "\n",
       "       Current Credit Balance  Bankruptcies     Tax Liens  Credit Score_1  \n",
       "count            8.891000e+04  88718.000000  88902.000000    88910.000000  \n",
       "mean             1.543593e+04      0.112672      0.028222      712.817647  \n",
       "std              1.965873e+04      0.343300      0.257533       28.567376  \n",
       "min              0.000000e+00      0.000000      0.000000      585.000000  \n",
       "25%              5.949000e+03      0.000000      0.000000      685.000000  \n",
       "50%              1.103900e+04      0.000000      0.000000      719.000000  \n",
       "75%              1.930100e+04      0.000000      0.000000      739.000000  \n",
       "max              1.730472e+06      7.000000     15.000000      751.000000  "
      ]
     },
     "execution_count": 30,
     "metadata": {},
     "output_type": "execute_result"
    }
   ],
   "source": [
    "data.describe() # Now Credit_Score also has 88910 rows\n",
    "                # And we can drop Credit Score_1 column"
   ]
  },
  {
   "cell_type": "code",
   "execution_count": 31,
   "id": "f1f43e43",
   "metadata": {},
   "outputs": [
    {
     "data": {
      "text/plain": [
       "<seaborn.axisgrid.FacetGrid at 0x1f91613cfd0>"
      ]
     },
     "execution_count": 31,
     "metadata": {},
     "output_type": "execute_result"
    },
    {
     "data": {
      "image/png": "[encoded data removed]",
      "text/plain": [
       "<Figure size 360x360 with 1 Axes>"
      ]
     },
     "metadata": {
      "needs_background": "light"
     },
     "output_type": "display_data"
    }
   ],
   "source": [
    "sns.displot(data[\"Credit Score\"])"
   ]
  },
  {
   "cell_type": "code",
   "execution_count": 32,
   "id": "82891fee",
   "metadata": {},
   "outputs": [
    {
     "data": {
      "text/plain": [
       "<seaborn.axisgrid.FacetGrid at 0x1f916163310>"
      ]
     },
     "execution_count": 32,
     "metadata": {},
     "output_type": "execute_result"
    },
    {
     "data": {
      "image/png": "[encoded data removed]",
      "text/plain": [
       "<Figure size 360x360 with 1 Axes>"
      ]
     },
     "metadata": {
      "needs_background": "light"
     },
     "output_type": "display_data"
    }
   ],
   "source": [
    "sns.displot(np.log(data[\"Credit Score\"]))\n",
    "# log transformation not helping much so we do not \n",
    "# assign log transformed value to data[\"Credit Score\"]"
   ]
  },
  {
   "cell_type": "code",
   "execution_count": 33,
   "id": "1a540e7e",
   "metadata": {},
   "outputs": [
    {
     "data": {
      "text/plain": [
       "count    6.757200e+04\n",
       "mean     7.234575e+04\n",
       "std      5.836101e+04\n",
       "min      4.033000e+03\n",
       "25%      4.458600e+04\n",
       "50%      6.149400e+04\n",
       "75%      8.675025e+04\n",
       "max      8.713547e+06\n",
       "Name: Annual Income, dtype: float64"
      ]
     },
     "execution_count": 33,
     "metadata": {},
     "output_type": "execute_result"
    }
   ],
   "source": [
    "# Analysing 'Annual Income' column\n",
    "data['Annual Income'].describe()"
   ]
  },
  {
   "cell_type": "code",
   "execution_count": 34,
   "id": "d5d6880f",
   "metadata": {},
   "outputs": [
    {
     "data": {
      "text/plain": [
       "0.200     40764.00\n",
       "0.750     86750.25\n",
       "0.900    119916.00\n",
       "0.950    147645.00\n",
       "0.990    239286.96\n",
       "0.999    491575.77\n",
       "Name: Annual Income, dtype: float64"
      ]
     },
     "execution_count": 34,
     "metadata": {},
     "output_type": "execute_result"
    }
   ],
   "source": [
    "# look at the quantiles of this column\n",
    "data['Annual Income'].quantile([.2,0.75,0.90,.95,0.99,.999])\n",
    "# 0.200     40764.00\n",
    "# 0.750     86750.25\n",
    "# 0.900    119916.00\n",
    "# 0.950    147645.00\n",
    "# 0.990    239286.96\n",
    "# 0.999    491575.77\n",
    "# Name: Annual Income, dtype: float64\n",
    "# 99th percentile of the values in column is at 239286.96"
   ]
  },
  {
   "cell_type": "code",
   "execution_count": 35,
   "id": "70e9cfc0",
   "metadata": {},
   "outputs": [
    {
     "data": {
      "text/plain": [
       "21338"
      ]
     },
     "execution_count": 35,
     "metadata": {},
     "output_type": "execute_result"
    }
   ],
   "source": [
    "# Capping any values greater than 99%  to 99th value [239286.96]\n",
    "data.loc[data['Annual Income'] > data['Annual Income'].quantile(0.99), 'Annual Income'] = data['Annual Income'].quantile(0.99)\n",
    "# Check column for NA\n",
    "data['Annual Income'].isna().sum()  # 21338 NAs\n",
    "# Will impute  NAs with other columns later using soft imputation"
   ]
  },
  {
   "cell_type": "code",
   "execution_count": 36,
   "id": "8243cbf8",
   "metadata": {},
   "outputs": [
    {
     "data": {
      "text/plain": [
       "array(['Rent', 'Home Mortgage', 'Own Home', 'HaveMortgage'], dtype=object)"
      ]
     },
     "execution_count": 36,
     "metadata": {},
     "output_type": "execute_result"
    }
   ],
   "source": [
    "# Analysing 'Home Ownership' column\n",
    "data['Home Ownership'].unique()\n",
    "# array(['Rent', 'Home Mortgage', 'Own Home', 'HaveMortgage'], dtype=object)\n",
    "#\n",
    "# 'Home Mortgage' and 'haveMortgage' mean same. Should be one category only."
   ]
  },
  {
   "cell_type": "code",
   "execution_count": 37,
   "id": "453fface",
   "metadata": {},
   "outputs": [
    {
     "data": {
      "text/plain": [
       "array(['Rent', 'Home Mortgage', 'Own Home'], dtype=object)"
      ]
     },
     "execution_count": 37,
     "metadata": {},
     "output_type": "execute_result"
    }
   ],
   "source": [
    "data['Home Ownership']=data['Home Ownership'].str.replace('HaveMortgage', 'Home Mortgage', regex=True)\n",
    "data['Home Ownership'].unique()\n",
    "# array(['Rent', 'Home Mortgage', 'Own Home'], dtype=object)\n",
    "# \n",
    "# Now a single category 'Home Mortgage' exists"
   ]
  },
  {
   "cell_type": "code",
   "execution_count": 38,
   "id": "835659f5",
   "metadata": {},
   "outputs": [
    {
     "data": {
      "text/plain": [
       "Debt Consolidation      70447\n",
       "Home Improvements        5206\n",
       "other                    4917\n",
       "Other                    2850\n",
       "Business Loan            1328\n",
       "Buy a Car                1196\n",
       "Medical Bills             955\n",
       "Buy House                 559\n",
       "Take a Trip               454\n",
       "major_purchase            344\n",
       "small_business            248\n",
       "moving                    124\n",
       "wedding                    99\n",
       "Educational Expenses       92\n",
       "vacation                   82\n",
       "renewable_energy            9\n",
       "Name: Purpose, dtype: int64"
      ]
     },
     "execution_count": 38,
     "metadata": {},
     "output_type": "execute_result"
    }
   ],
   "source": [
    "# Analysing 'Purpose' column\n",
    "data['Purpose'].value_counts()"
   ]
  },
  {
   "cell_type": "code",
   "execution_count": 39,
   "id": "ac9d0656",
   "metadata": {},
   "outputs": [
    {
     "data": {
      "text/plain": [
       "Debt Consolidation      70447\n",
       "other                    7767\n",
       "Home Improvements        5206\n",
       "Business Loan            1328\n",
       "Buy a Car                1196\n",
       "Medical Bills             955\n",
       "Buy House                 559\n",
       "Take a Trip               454\n",
       "major_purchase            344\n",
       "small_business            248\n",
       "moving                    124\n",
       "wedding                    99\n",
       "Educational Expenses       92\n",
       "vacation                   82\n",
       "renewable_energy            9\n",
       "Name: Purpose, dtype: int64"
      ]
     },
     "execution_count": 39,
     "metadata": {},
     "output_type": "execute_result"
    }
   ],
   "source": [
    "# As other and Other mean the same, consolidate two columns\n",
    "data['Purpose']=data['Purpose'].str.replace('Other', 'other', regex=True)\n",
    "data['Purpose'].value_counts()  \n",
    "# Now all cols indicate unique purpose"
   ]
  },
  {
   "cell_type": "code",
   "execution_count": 40,
   "id": "3a7244b1",
   "metadata": {},
   "outputs": [
    {
     "data": {
      "text/plain": [
       "16.0    1234\n",
       "15.0    1159\n",
       "17.0    1091\n",
       "16.5    1045\n",
       "14.0    1031\n",
       "        ... \n",
       "51.6       1\n",
       "59.5       1\n",
       "62.5       1\n",
       "65.0       1\n",
       "51.3       1\n",
       "Name: Years of Credit History, Length: 508, dtype: int64"
      ]
     },
     "execution_count": 40,
     "metadata": {},
     "output_type": "execute_result"
    }
   ],
   "source": [
    "# Analyze column 'Years of credit history'\n",
    "data['Years of Credit History'].value_counts()"
   ]
  },
  {
   "cell_type": "code",
   "execution_count": 41,
   "id": "a9ce8682",
   "metadata": {},
   "outputs": [
    {
     "data": {
      "text/plain": [
       "<seaborn.axisgrid.FacetGrid at 0x1f939791a00>"
      ]
     },
     "execution_count": 41,
     "metadata": {},
     "output_type": "execute_result"
    },
    {
     "data": {
      "image/png": "[encoded data removed]",
      "text/plain": [
       "<Figure size 360x360 with 1 Axes>"
      ]
     },
     "metadata": {
      "needs_background": "light"
     },
     "output_type": "display_data"
    }
   ],
   "source": [
    "sns.displot(data[\"Years of Credit History\"])\n",
    "# Distribution shows no outlier problem. Next check by boxplot"
   ]
  },
  {
   "cell_type": "code",
   "execution_count": 42,
   "id": "ba2318e6",
   "metadata": {},
   "outputs": [
    {
     "data": {
      "text/plain": [
       "{'whiskers': [<matplotlib.lines.Line2D at 0x1f93adac550>,\n",
       "  <matplotlib.lines.Line2D at 0x1f93adac910>],\n",
       " 'caps': [<matplotlib.lines.Line2D at 0x1f93adacca0>,\n",
       "  <matplotlib.lines.Line2D at 0x1f93adb7070>],\n",
       " 'boxes': [<matplotlib.lines.Line2D at 0x1f93adac1c0>],\n",
       " 'medians': [<matplotlib.lines.Line2D at 0x1f93adb7400>],\n",
       " 'fliers': [<matplotlib.lines.Line2D at 0x1f93adb7790>],\n",
       " 'means': []}"
      ]
     },
     "execution_count": 42,
     "metadata": {},
     "output_type": "execute_result"
    },
    {
     "data": {
      "image/png": "[encoded data removed]",
      "text/plain": [
       "<Figure size 432x288 with 1 Axes>"
      ]
     },
     "metadata": {
      "needs_background": "light"
     },
     "output_type": "display_data"
    }
   ],
   "source": [
    "plt.boxplot(data[\"Years of Credit History\"])"
   ]
  },
  {
   "cell_type": "code",
   "execution_count": 43,
   "id": "6bb8ba6a",
   "metadata": {},
   "outputs": [
    {
     "data": {
      "text/plain": [
       "0         777.39\n",
       "1         892.09\n",
       "2        1244.02\n",
       "3         990.94\n",
       "4         503.71\n",
       "          ...   \n",
       "88905     567.62\n",
       "88906    2508.63\n",
       "88907      818.2\n",
       "88908     360.17\n",
       "88909     749.13\n",
       "Name: Monthly Debt, Length: 88910, dtype: object"
      ]
     },
     "execution_count": 43,
     "metadata": {},
     "output_type": "execute_result"
    }
   ],
   "source": [
    "# Analyse 'Monthly Debt' column\n",
    "data['Monthly Debt'] "
   ]
  },
  {
   "cell_type": "code",
   "execution_count": 44,
   "id": "2eff824a",
   "metadata": {},
   "outputs": [],
   "source": [
    "# So lets convert it to float\n",
    "# pd.to_numeric(data['Monthly Debt'] )\n",
    "# Gives error Unable to parse string \"$1051.41\""
   ]
  },
  {
   "cell_type": "code",
   "execution_count": 45,
   "id": "156a4c0c",
   "metadata": {},
   "outputs": [],
   "source": [
    "# So remove $ symbol\n",
    "data['Monthly Debt']=data['Monthly Debt'].str.replace('$', '', regex=True)"
   ]
  },
  {
   "cell_type": "code",
   "execution_count": 46,
   "id": "f3e2d8bd",
   "metadata": {},
   "outputs": [
    {
     "data": {
      "text/plain": [
       "<seaborn.axisgrid.FacetGrid at 0x1f93ae1a3d0>"
      ]
     },
     "execution_count": 46,
     "metadata": {},
     "output_type": "execute_result"
    },
    {
     "data": {
      "image/png": "[encoded data removed]",
      "text/plain": [
       "<Figure size 360x360 with 1 Axes>"
      ]
     },
     "metadata": {
      "needs_background": "light"
     },
     "output_type": "display_data"
    }
   ],
   "source": [
    "# Now convert it to float\n",
    "data['Monthly Debt']=pd.to_numeric(data['Monthly Debt'] )\n",
    "sns.displot(data[\"Monthly Debt\"])\n",
    "# Very few values beyond 5000, but right end of plot extends upto 20000\n",
    "# Indicates presence of outliers. Confirming by box plot next."
   ]
  },
  {
   "cell_type": "code",
   "execution_count": 47,
   "id": "72be48c6",
   "metadata": {},
   "outputs": [
    {
     "data": {
      "text/plain": [
       "{'whiskers': [<matplotlib.lines.Line2D at 0x1f93e341eb0>,\n",
       "  <matplotlib.lines.Line2D at 0x1f93e34f280>],\n",
       " 'caps': [<matplotlib.lines.Line2D at 0x1f93e34f610>,\n",
       "  <matplotlib.lines.Line2D at 0x1f93e34f9a0>],\n",
       " 'boxes': [<matplotlib.lines.Line2D at 0x1f93e341b20>],\n",
       " 'medians': [<matplotlib.lines.Line2D at 0x1f93e34fd30>],\n",
       " 'fliers': [<matplotlib.lines.Line2D at 0x1f93e35d100>],\n",
       " 'means': []}"
      ]
     },
     "execution_count": 47,
     "metadata": {},
     "output_type": "execute_result"
    },
    {
     "data": {
      "image/png": "[encoded data removed]",
      "text/plain": [
       "<Figure size 432x288 with 1 Axes>"
      ]
     },
     "metadata": {
      "needs_background": "light"
     },
     "output_type": "display_data"
    }
   ],
   "source": [
    "plt.boxplot(data[\"Monthly Debt\"])\n",
    "# So, there are outliers in this column"
   ]
  },
  {
   "cell_type": "code",
   "execution_count": 48,
   "id": "72390925",
   "metadata": {},
   "outputs": [
    {
     "data": {
      "text/plain": [
       "count    88910.000000\n",
       "mean       963.102059\n",
       "std        637.524064\n",
       "min          0.000000\n",
       "25%        532.220000\n",
       "50%        843.925000\n",
       "75%       1250.527500\n",
       "max      22939.120000\n",
       "Name: Monthly Debt, dtype: float64"
      ]
     },
     "execution_count": 48,
     "metadata": {},
     "output_type": "execute_result"
    }
   ],
   "source": [
    "#Lets explore the values\n",
    "data['Monthly Debt'].describe()\n",
    "# max value is too high 22939.12"
   ]
  },
  {
   "cell_type": "code",
   "execution_count": 49,
   "id": "2c2255e0",
   "metadata": {},
   "outputs": [
    {
     "data": {
      "text/plain": [
       "0.200     463.75000\n",
       "0.750    1250.52750\n",
       "0.900    1743.08300\n",
       "0.950    2115.51100\n",
       "0.990    3087.11100\n",
       "0.999    4926.37475\n",
       "Name: Monthly Debt, dtype: float64"
      ]
     },
     "execution_count": 49,
     "metadata": {},
     "output_type": "execute_result"
    }
   ],
   "source": [
    "# See distribution in various quantiles\n",
    "data['Monthly Debt'].quantile([.2,0.75,0.90,.95,0.99,.999])"
   ]
  },
  {
   "cell_type": "code",
   "execution_count": 50,
   "id": "c0c0a258",
   "metadata": {},
   "outputs": [
    {
     "data": {
      "text/plain": [
       "0.9995    5482.111455\n",
       "0.9999    7774.610660\n",
       "Name: Monthly Debt, dtype: float64"
      ]
     },
     "execution_count": 50,
     "metadata": {},
     "output_type": "execute_result"
    }
   ],
   "source": [
    "#Problem is above 0.999th percentile. lets dig deeper\n",
    "data['Monthly Debt'].quantile([0.9995,.9999])"
   ]
  },
  {
   "cell_type": "code",
   "execution_count": 51,
   "id": "f7caa3d3",
   "metadata": {},
   "outputs": [
    {
     "data": {
      "text/plain": [
       "0.99960     5627.316544\n",
       "0.99999    13262.762330\n",
       "Name: Monthly Debt, dtype: float64"
      ]
     },
     "execution_count": 51,
     "metadata": {},
     "output_type": "execute_result"
    }
   ],
   "source": [
    "#Problem is above 0.9995th percentile. lets dig deeper\n",
    "data['Monthly Debt'].quantile([0.9996,.99999])"
   ]
  },
  {
   "cell_type": "code",
   "execution_count": 52,
   "id": "f3c77ef0",
   "metadata": {},
   "outputs": [
    {
     "data": {
      "text/plain": [
       "0.999     4926.37475\n",
       "1.000    22939.12000\n",
       "Name: Monthly Debt, dtype: float64"
      ]
     },
     "execution_count": 52,
     "metadata": {},
     "output_type": "execute_result"
    }
   ],
   "source": [
    "data['Monthly Debt'].quantile([0.999,1])"
   ]
  },
  {
   "cell_type": "code",
   "execution_count": 53,
   "id": "f998fb9d",
   "metadata": {},
   "outputs": [
    {
     "data": {
      "text/plain": [
       "<seaborn.axisgrid.FacetGrid at 0x1f93e2efb50>"
      ]
     },
     "execution_count": 53,
     "metadata": {},
     "output_type": "execute_result"
    },
    {
     "data": {
      "image/png": "[encoded data removed]",
      "text/plain": [
       "<Figure size 360x360 with 1 Axes>"
      ]
     },
     "metadata": {
      "needs_background": "light"
     },
     "output_type": "display_data"
    }
   ],
   "source": [
    "# Replace all values above 0.999th percentile by 0.999th percentile\n",
    "data.loc[data['Monthly Debt'] > data['Monthly Debt'].quantile(0.999), 'Monthly Debt'] = data['Monthly Debt'].quantile(0.999)\n",
    "sns.displot(data[\"Monthly Debt\"])\n",
    "# Distribution appears much better now\n",
    "# Outliers replaced.Confirming by quantile & box plot next."
   ]
  },
  {
   "cell_type": "code",
   "execution_count": 54,
   "id": "8736694a",
   "metadata": {},
   "outputs": [
    {
     "data": {
      "text/plain": [
       "0.999    4926.188632\n",
       "1.000    4926.374750\n",
       "Name: Monthly Debt, dtype: float64"
      ]
     },
     "execution_count": 54,
     "metadata": {},
     "output_type": "execute_result"
    }
   ],
   "source": [
    "data['Monthly Debt'].quantile([0.999,1])"
   ]
  },
  {
   "cell_type": "code",
   "execution_count": 55,
   "id": "8e3ce751",
   "metadata": {},
   "outputs": [
    {
     "data": {
      "text/plain": [
       "{'whiskers': [<matplotlib.lines.Line2D at 0x1f93e4cc3a0>,\n",
       "  <matplotlib.lines.Line2D at 0x1f93e4cc730>],\n",
       " 'caps': [<matplotlib.lines.Line2D at 0x1f93e4ccac0>,\n",
       "  <matplotlib.lines.Line2D at 0x1f93e4cce50>],\n",
       " 'boxes': [<matplotlib.lines.Line2D at 0x1f93e4befd0>],\n",
       " 'medians': [<matplotlib.lines.Line2D at 0x1f93e4d6220>],\n",
       " 'fliers': [<matplotlib.lines.Line2D at 0x1f93e4d65b0>],\n",
       " 'means': []}"
      ]
     },
     "execution_count": 55,
     "metadata": {},
     "output_type": "execute_result"
    },
    {
     "data": {
      "image/png": "[encoded data removed]",
      "text/plain": [
       "<Figure size 432x288 with 1 Axes>"
      ]
     },
     "metadata": {
      "needs_background": "light"
     },
     "output_type": "display_data"
    }
   ],
   "source": [
    "plt.boxplot(data[\"Monthly Debt\"])"
   ]
  },
  {
   "cell_type": "code",
   "execution_count": 56,
   "id": "532ec0ad",
   "metadata": {},
   "outputs": [
    {
     "data": {
      "text/plain": [
       "count    88910.000000\n",
       "mean       961.865406\n",
       "std        624.630127\n",
       "min          0.000000\n",
       "25%        532.220000\n",
       "50%        843.925000\n",
       "75%       1250.527500\n",
       "max       4926.374750\n",
       "Name: Monthly Debt, dtype: float64"
      ]
     },
     "execution_count": 56,
     "metadata": {},
     "output_type": "execute_result"
    }
   ],
   "source": [
    "data[\"Monthly Debt\"].describe()"
   ]
  },
  {
   "cell_type": "code",
   "execution_count": 57,
   "id": "39d52e6f",
   "metadata": {
    "scrolled": true
   },
   "outputs": [
    {
     "data": {
      "text/plain": [
       "48506"
      ]
     },
     "execution_count": 57,
     "metadata": {},
     "output_type": "execute_result"
    }
   ],
   "source": [
    "#check for NAs\n",
    "data['Months since last delinquent'].isna().sum()\n",
    "#48506 NAs. Will handle them later with other columns."
   ]
  },
  {
   "cell_type": "code",
   "execution_count": 58,
   "id": "6f7ecdc6",
   "metadata": {},
   "outputs": [
    {
     "data": {
      "text/plain": [
       "count    88910.000000\n",
       "mean        11.110348\n",
       "std          4.978461\n",
       "min          0.000000\n",
       "25%          8.000000\n",
       "50%         10.000000\n",
       "75%         14.000000\n",
       "max         76.000000\n",
       "Name: Number of Open Accounts, dtype: float64"
      ]
     },
     "execution_count": 58,
     "metadata": {},
     "output_type": "execute_result"
    }
   ],
   "source": [
    "# Analysing column 'Number of open accounts'\n",
    "data['Number of Open Accounts'].describe()\n",
    "#max value of  open accounts 76 is a bit too large. Needs investigation"
   ]
  },
  {
   "cell_type": "code",
   "execution_count": 59,
   "id": "6de6b4d0",
   "metadata": {},
   "outputs": [
    {
     "data": {
      "text/plain": [
       "<seaborn.axisgrid.FacetGrid at 0x1f93e4e7f40>"
      ]
     },
     "execution_count": 59,
     "metadata": {},
     "output_type": "execute_result"
    },
    {
     "data": {
      "image/png": "[encoded data removed]",
      "text/plain": [
       "<Figure size 360x360 with 1 Axes>"
      ]
     },
     "metadata": {
      "needs_background": "light"
     },
     "output_type": "display_data"
    }
   ],
   "source": [
    "sns.displot(data['Number of Open Accounts'])\n",
    "# Distribution shows value 76 is outlier. Checking by box plot also."
   ]
  },
  {
   "cell_type": "code",
   "execution_count": 60,
   "id": "8b275be7",
   "metadata": {},
   "outputs": [
    {
     "data": {
      "text/plain": [
       "{'whiskers': [<matplotlib.lines.Line2D at 0x1f940ca9850>,\n",
       "  <matplotlib.lines.Line2D at 0x1f940ca9be0>],\n",
       " 'caps': [<matplotlib.lines.Line2D at 0x1f940ca9f70>,\n",
       "  <matplotlib.lines.Line2D at 0x1f940cb6340>],\n",
       " 'boxes': [<matplotlib.lines.Line2D at 0x1f940ca94c0>],\n",
       " 'medians': [<matplotlib.lines.Line2D at 0x1f940cb66d0>],\n",
       " 'fliers': [<matplotlib.lines.Line2D at 0x1f940cb6a60>],\n",
       " 'means': []}"
      ]
     },
     "execution_count": 60,
     "metadata": {},
     "output_type": "execute_result"
    },
    {
     "data": {
      "image/png": "[encoded data removed]",
      "text/plain": [
       "<Figure size 432x288 with 1 Axes>"
      ]
     },
     "metadata": {
      "needs_background": "light"
     },
     "output_type": "display_data"
    }
   ],
   "source": [
    "plt.boxplot(data['Number of Open Accounts'])\n",
    "# Clearly shows presence of many outliers"
   ]
  },
  {
   "cell_type": "code",
   "execution_count": 61,
   "id": "77ce0ed4",
   "metadata": {},
   "outputs": [
    {
     "data": {
      "text/plain": [
       "0.750    14.0\n",
       "0.999    36.0\n",
       "1.000    76.0\n",
       "Name: Number of Open Accounts, dtype: float64"
      ]
     },
     "execution_count": 61,
     "metadata": {},
     "output_type": "execute_result"
    }
   ],
   "source": [
    "data['Number of Open Accounts'].quantile([0.75,0.999,1])\n",
    "# So upto 36 accounts make 99.9% of total data. "
   ]
  },
  {
   "cell_type": "code",
   "execution_count": 62,
   "id": "577e2473",
   "metadata": {},
   "outputs": [
    {
     "data": {
      "text/plain": [
       "<seaborn.axisgrid.FacetGrid at 0x1f93e4ed280>"
      ]
     },
     "execution_count": 62,
     "metadata": {},
     "output_type": "execute_result"
    },
    {
     "data": {
      "image/png": "[encoded data removed]",
      "text/plain": [
       "<Figure size 360x360 with 1 Axes>"
      ]
     },
     "metadata": {
      "needs_background": "light"
     },
     "output_type": "display_data"
    }
   ],
   "source": [
    "# replacing values> 0.999th percentile with 0.999th percentile values\n",
    "data.loc[data['Number of Open Accounts'] > data['Number of Open Accounts'].quantile(0.999), 'Number of Open Accounts'] = data['Number of Open Accounts'].quantile(0.999)\n",
    "sns.displot(data['Number of Open Accounts'])\n",
    "# Looks much better data-distribution now. Plotting box-plot."
   ]
  },
  {
   "cell_type": "code",
   "execution_count": 63,
   "id": "2df9fefb",
   "metadata": {},
   "outputs": [
    {
     "data": {
      "text/plain": [
       "{'whiskers': [<matplotlib.lines.Line2D at 0x1f940e9adc0>,\n",
       "  <matplotlib.lines.Line2D at 0x1f940ea9190>],\n",
       " 'caps': [<matplotlib.lines.Line2D at 0x1f940ea9520>,\n",
       "  <matplotlib.lines.Line2D at 0x1f940ea98b0>],\n",
       " 'boxes': [<matplotlib.lines.Line2D at 0x1f940e9aa30>],\n",
       " 'medians': [<matplotlib.lines.Line2D at 0x1f940ea9c40>],\n",
       " 'fliers': [<matplotlib.lines.Line2D at 0x1f940ea9fd0>],\n",
       " 'means': []}"
      ]
     },
     "execution_count": 63,
     "metadata": {},
     "output_type": "execute_result"
    },
    {
     "data": {
      "image/png": "[encoded data removed]",
      "text/plain": [
       "<Figure size 432x288 with 1 Axes>"
      ]
     },
     "metadata": {
      "needs_background": "light"
     },
     "output_type": "display_data"
    }
   ],
   "source": [
    "plt.boxplot(data['Number of Open Accounts'])"
   ]
  },
  {
   "cell_type": "code",
   "execution_count": 64,
   "id": "14a93386",
   "metadata": {},
   "outputs": [
    {
     "data": {
      "text/plain": [
       "count    88910.000000\n",
       "mean         0.160477\n",
       "std          0.473746\n",
       "min          0.000000\n",
       "25%          0.000000\n",
       "50%          0.000000\n",
       "75%          0.000000\n",
       "max         15.000000\n",
       "Name: Number of Credit Problems, dtype: float64"
      ]
     },
     "execution_count": 64,
     "metadata": {},
     "output_type": "execute_result"
    }
   ],
   "source": [
    "# Analysing column 'Number of Credit problems'\n",
    "data['Number of Credit Problems'].describe() \n",
    "# Max looks a bit higher.May or may not be pbm. Needs investigation."
   ]
  },
  {
   "cell_type": "code",
   "execution_count": 65,
   "id": "6caba06b",
   "metadata": {},
   "outputs": [
    {
     "data": {
      "text/plain": [
       "count    8.891000e+04\n",
       "mean     1.543593e+04\n",
       "std      1.965873e+04\n",
       "min      0.000000e+00\n",
       "25%      5.949000e+03\n",
       "50%      1.103900e+04\n",
       "75%      1.930100e+04\n",
       "max      1.730472e+06\n",
       "Name: Current Credit Balance, dtype: float64"
      ]
     },
     "execution_count": 65,
     "metadata": {},
     "output_type": "execute_result"
    }
   ],
   "source": [
    "# Analysing column 'Current Credit Balance'\n",
    "data['Current Credit Balance'].describe()\n",
    "# Difference between minimum (0) and maximum (1.730472e+06) is very large.\n",
    "# we can take transformation like squareroot if distribution is not good"
   ]
  },
  {
   "cell_type": "code",
   "execution_count": 66,
   "id": "613581fb",
   "metadata": {},
   "outputs": [
    {
     "data": {
      "text/plain": [
       "<seaborn.axisgrid.FacetGrid at 0x1f940ecab20>"
      ]
     },
     "execution_count": 66,
     "metadata": {},
     "output_type": "execute_result"
    },
    {
     "data": {
      "image/png": "[encoded data removed]",
      "text/plain": [
       "<Figure size 360x360 with 1 Axes>"
      ]
     },
     "metadata": {
      "needs_background": "light"
     },
     "output_type": "display_data"
    }
   ],
   "source": [
    "sns.displot(data['Current Credit Balance'])\n",
    "# Looks outliers are present in this Column. Investigating by boxplots"
   ]
  },
  {
   "cell_type": "code",
   "execution_count": 67,
   "id": "fc990b92",
   "metadata": {},
   "outputs": [
    {
     "data": {
      "text/plain": [
       "{'whiskers': [<matplotlib.lines.Line2D at 0x1f94488ee80>,\n",
       "  <matplotlib.lines.Line2D at 0x1f94489d250>],\n",
       " 'caps': [<matplotlib.lines.Line2D at 0x1f94489d610>,\n",
       "  <matplotlib.lines.Line2D at 0x1f94489d9a0>],\n",
       " 'boxes': [<matplotlib.lines.Line2D at 0x1f94488eaf0>],\n",
       " 'medians': [<matplotlib.lines.Line2D at 0x1f94489dd30>],\n",
       " 'fliers': [<matplotlib.lines.Line2D at 0x1f944829100>],\n",
       " 'means': []}"
      ]
     },
     "execution_count": 67,
     "metadata": {},
     "output_type": "execute_result"
    },
    {
     "data": {
      "image/png": "[encoded data removed]",
      "text/plain": [
       "<Figure size 432x288 with 1 Axes>"
      ]
     },
     "metadata": {
      "needs_background": "light"
     },
     "output_type": "display_data"
    }
   ],
   "source": [
    "plt.boxplot(data['Current Credit Balance'])\n",
    "# Looks outliers are present in this Column. Investigating further"
   ]
  },
  {
   "cell_type": "code",
   "execution_count": 68,
   "id": "e063159b",
   "metadata": {},
   "outputs": [
    {
     "data": {
      "text/plain": [
       "0.750      19301.000\n",
       "0.950      39933.300\n",
       "0.999     227670.033\n",
       "1.000    1730472.000\n",
       "Name: Current Credit Balance, dtype: float64"
      ]
     },
     "execution_count": 68,
     "metadata": {},
     "output_type": "execute_result"
    }
   ],
   "source": [
    "data['Current Credit Balance'].quantile([0.75,0.95,0.999,1])\n",
    "# 0.750      19301.000\n",
    "# 0.950      39933.300\n",
    "# 0.999     227670.033\n",
    "# 1.000    1730472.000\n",
    "# Needs more investiation above 0.950th quantile"
   ]
  },
  {
   "cell_type": "code",
   "execution_count": 69,
   "id": "3377174b",
   "metadata": {},
   "outputs": [
    {
     "data": {
      "text/plain": [
       "0.95      39933.30\n",
       "0.96      43501.20\n",
       "0.97      48507.73\n",
       "0.98      57938.12\n",
       "0.99      81007.19\n",
       "1.00    1730472.00\n",
       "Name: Current Credit Balance, dtype: float64"
      ]
     },
     "execution_count": 69,
     "metadata": {},
     "output_type": "execute_result"
    }
   ],
   "source": [
    "data['Current Credit Balance'].quantile([0.95,0.96,0.97,0.98,0.99,1])"
   ]
  },
  {
   "cell_type": "code",
   "execution_count": 70,
   "id": "1959d50f",
   "metadata": {},
   "outputs": [
    {
     "data": {
      "text/plain": [
       "0.55      12295.00\n",
       "0.76      19805.84\n",
       "0.87      27525.66\n",
       "0.98      57938.12\n",
       "0.99      81007.19\n",
       "1.00    1730472.00\n",
       "Name: Current Credit Balance, dtype: float64"
      ]
     },
     "execution_count": 70,
     "metadata": {},
     "output_type": "execute_result"
    }
   ],
   "source": [
    "# Digging deeper\n",
    "data['Current Credit Balance'].quantile([0.55,0.76,0.87,0.98,0.99,1])"
   ]
  },
  {
   "cell_type": "code",
   "execution_count": 71,
   "id": "4c5f1059",
   "metadata": {},
   "outputs": [
    {
     "data": {
      "text/plain": [
       "<seaborn.axisgrid.FacetGrid at 0x1f940cb6d00>"
      ]
     },
     "execution_count": 71,
     "metadata": {},
     "output_type": "execute_result"
    },
    {
     "data": {
      "image/png": "[encoded data removed]",
      "text/plain": [
       "<Figure size 360x360 with 1 Axes>"
      ]
     },
     "metadata": {
      "needs_background": "light"
     },
     "output_type": "display_data"
    }
   ],
   "source": [
    "# Cap all values at 0.99th quantile\n",
    "data.loc[data['Current Credit Balance'] > data['Current Credit Balance'].quantile(0.99), 'Current Credit Balance'] = data['Current Credit Balance'].quantile(0.99)\n",
    "sns.displot(data['Current Credit Balance'])\n",
    "# Not good distribution. Apply square-root transformation"
   ]
  },
  {
   "cell_type": "code",
   "execution_count": 72,
   "id": "f2dac05d",
   "metadata": {},
   "outputs": [
    {
     "data": {
      "text/plain": [
       "<seaborn.axisgrid.FacetGrid at 0x1f9448371f0>"
      ]
     },
     "execution_count": 72,
     "metadata": {},
     "output_type": "execute_result"
    },
    {
     "data": {
      "image/png": "[encoded data removed]",
      "text/plain": [
       "<Figure size 360x360 with 1 Axes>"
      ]
     },
     "metadata": {
      "needs_background": "light"
     },
     "output_type": "display_data"
    }
   ],
   "source": [
    "sns.displot(data['Number of Credit Problems'])\n",
    "# Looks ok. lets look at value _counts next"
   ]
  },
  {
   "cell_type": "code",
   "execution_count": 73,
   "id": "9da6271a",
   "metadata": {},
   "outputs": [
    {
     "data": {
      "text/plain": [
       "0     77057\n",
       "1     10271\n",
       "2      1092\n",
       "3       311\n",
       "4       101\n",
       "5        46\n",
       "6        14\n",
       "7         6\n",
       "9         4\n",
       "10        3\n",
       "8         2\n",
       "12        1\n",
       "15        1\n",
       "11        1\n",
       "Name: Number of Credit Problems, dtype: int64"
      ]
     },
     "execution_count": 73,
     "metadata": {},
     "output_type": "execute_result"
    }
   ],
   "source": [
    "data['Number of Credit Problems'].value_counts()\n",
    "# looks ok. Checking by Plotting box-plot next"
   ]
  },
  {
   "cell_type": "code",
   "execution_count": 74,
   "id": "dae11165",
   "metadata": {},
   "outputs": [
    {
     "data": {
      "text/plain": [
       "{'whiskers': [<matplotlib.lines.Line2D at 0x1f93d570700>,\n",
       "  <matplotlib.lines.Line2D at 0x1f93d570a90>],\n",
       " 'caps': [<matplotlib.lines.Line2D at 0x1f93d570e20>,\n",
       "  <matplotlib.lines.Line2D at 0x1f93d57b1f0>],\n",
       " 'boxes': [<matplotlib.lines.Line2D at 0x1f93d570370>],\n",
       " 'medians': [<matplotlib.lines.Line2D at 0x1f93d57b580>],\n",
       " 'fliers': [<matplotlib.lines.Line2D at 0x1f93d57b910>],\n",
       " 'means': []}"
      ]
     },
     "execution_count": 74,
     "metadata": {},
     "output_type": "execute_result"
    },
    {
     "data": {
      "image/png": "[encoded data removed]",
      "text/plain": [
       "<Figure size 432x288 with 1 Axes>"
      ]
     },
     "metadata": {
      "needs_background": "light"
     },
     "output_type": "display_data"
    }
   ],
   "source": [
    "plt.boxplot(data['Number of Credit Problems'])\n",
    "# Very few outliers. Not removing."
   ]
  },
  {
   "cell_type": "code",
   "execution_count": 75,
   "id": "9980baf4",
   "metadata": {},
   "outputs": [
    {
     "data": {
      "text/plain": [
       "<seaborn.axisgrid.FacetGrid at 0x1f93d58a790>"
      ]
     },
     "execution_count": 75,
     "metadata": {},
     "output_type": "execute_result"
    },
    {
     "data": {
      "image/png": "[encoded data removed]",
      "text/plain": [
       "<Figure size 360x360 with 1 Axes>"
      ]
     },
     "metadata": {
      "needs_background": "light"
     },
     "output_type": "display_data"
    }
   ],
   "source": [
    "sns.displot(data['Current Credit Balance']**(1/2))\n",
    "# much better distribution now "
   ]
  },
  {
   "cell_type": "code",
   "execution_count": 76,
   "id": "9a0dfbe4",
   "metadata": {},
   "outputs": [
    {
     "data": {
      "text/plain": [
       "count     88910\n",
       "unique    46625\n",
       "top           0\n",
       "freq        610\n",
       "Name: Maximum Open Credit, dtype: object"
      ]
     },
     "execution_count": 76,
     "metadata": {},
     "output_type": "execute_result"
    }
   ],
   "source": [
    "# Analysing column 'Max open credit'\n",
    "data['Maximum Open Credit'].describe()\n",
    "# Categorical data but sould be numeric."
   ]
  },
  {
   "cell_type": "code",
   "execution_count": 77,
   "id": "fe72f1a4",
   "metadata": {},
   "outputs": [
    {
     "data": {
      "text/plain": [
       "0.0        610\n",
       "10782.0     10\n",
       "14382.0     10\n",
       "17464.0     10\n",
       "11044.0     10\n",
       "          ... \n",
       "46635.0      1\n",
       "25110.0      1\n",
       "54780.0      1\n",
       "42402.0      1\n",
       "53374.0      1\n",
       "Name: Maximum Open Credit, Length: 46625, dtype: int64"
      ]
     },
     "execution_count": 77,
     "metadata": {},
     "output_type": "execute_result"
    }
   ],
   "source": [
    "# pd.to_numeric(data['Maximum Open Credit'])\n",
    "# Shows ValueError: Unable to parse string \"#VALUE!\"\n",
    "# Replace #value with Nan, then convert to numeric\n",
    "data['Maximum Open Credit']=data['Maximum Open Credit'].replace('#VALUE!', np.nan, regex=True)\n",
    "data['Maximum Open Credit']=pd.to_numeric(data['Maximum Open Credit'])\n",
    "data['Maximum Open Credit'].isnull().sum()\n",
    "# only 2 Nans in the column. Replace them with mean \n",
    "mean_value = data['Maximum Open Credit'].mean()\n",
    "data['Maximum Open Credit']=data['Maximum Open Credit'].fillna(mean_value)\n",
    "data['Maximum Open Credit'].value_counts()\n",
    "# Converted to int64 but some high values have only one count. Outliers?\n",
    "# Will check next by boxplot"
   ]
  },
  {
   "cell_type": "code",
   "execution_count": 78,
   "id": "eaacfc10",
   "metadata": {},
   "outputs": [
    {
     "data": {
      "text/plain": [
       "{'whiskers': [<matplotlib.lines.Line2D at 0x1f93db0dd90>,\n",
       "  <matplotlib.lines.Line2D at 0x1f93db1d160>],\n",
       " 'caps': [<matplotlib.lines.Line2D at 0x1f93db1d4f0>,\n",
       "  <matplotlib.lines.Line2D at 0x1f93db1d880>],\n",
       " 'boxes': [<matplotlib.lines.Line2D at 0x1f93db0d9d0>],\n",
       " 'medians': [<matplotlib.lines.Line2D at 0x1f93db1dc10>],\n",
       " 'fliers': [<matplotlib.lines.Line2D at 0x1f93db1dfa0>],\n",
       " 'means': []}"
      ]
     },
     "execution_count": 78,
     "metadata": {},
     "output_type": "execute_result"
    },
    {
     "data": {
      "image/png": "[encoded data removed]",
      "text/plain": [
       "<Figure size 432x288 with 1 Axes>"
      ]
     },
     "metadata": {
      "needs_background": "light"
     },
     "output_type": "display_data"
    }
   ],
   "source": [
    "plt.boxplot(data['Maximum Open Credit'])\n",
    "# Confirms many outliers"
   ]
  },
  {
   "cell_type": "code",
   "execution_count": 79,
   "id": "fd06fd9c",
   "metadata": {},
   "outputs": [
    {
     "data": {
      "text/plain": [
       "{'whiskers': [<matplotlib.lines.Line2D at 0x1f93db7fbb0>,\n",
       "  <matplotlib.lines.Line2D at 0x1f93db7ff40>],\n",
       " 'caps': [<matplotlib.lines.Line2D at 0x1f93db8d310>,\n",
       "  <matplotlib.lines.Line2D at 0x1f93db8d6a0>],\n",
       " 'boxes': [<matplotlib.lines.Line2D at 0x1f93db7f820>],\n",
       " 'medians': [<matplotlib.lines.Line2D at 0x1f93db8da30>],\n",
       " 'fliers': [<matplotlib.lines.Line2D at 0x1f93db8ddc0>],\n",
       " 'means': []}"
      ]
     },
     "execution_count": 79,
     "metadata": {},
     "output_type": "execute_result"
    },
    {
     "data": {
      "image/png": "[encoded data removed]",
      "text/plain": [
       "<Figure size 432x288 with 1 Axes>"
      ]
     },
     "metadata": {
      "needs_background": "light"
     },
     "output_type": "display_data"
    }
   ],
   "source": [
    "data['Maximum Open Credit'].quantile([0.55,0.76,0.87,0.98,0.99,1])\n",
    "# 0.55       24037.95\n",
    "# 0.76       37259.84\n",
    "# 0.87       50736.66\n",
    "# 0.98      114682.56\n",
    "# 0.99      171423.91\n",
    "# 1.00    69988086.00\n",
    "# So we can cap values at 0.99 percentile\n",
    "data.loc[data['Maximum Open Credit'] > data['Maximum Open Credit'].quantile(0.99), 'Maximum Open Credit'] = data['Maximum Open Credit'].quantile(0.99)\n",
    "plt.boxplot(data['Maximum Open Credit'])\n",
    "# much better data distribution now"
   ]
  },
  {
   "cell_type": "code",
   "execution_count": 80,
   "id": "b377bb62",
   "metadata": {},
   "outputs": [
    {
     "data": {
      "text/plain": [
       "count    88718.000000\n",
       "mean         0.112672\n",
       "std          0.343300\n",
       "min          0.000000\n",
       "25%          0.000000\n",
       "50%          0.000000\n",
       "75%          0.000000\n",
       "max          7.000000\n",
       "Name: Bankruptcies, dtype: float64"
      ]
     },
     "execution_count": 80,
     "metadata": {},
     "output_type": "execute_result"
    }
   ],
   "source": [
    "# Analyse column 'Bankruptcies'\n",
    "data['Bankruptcies'].describe()"
   ]
  },
  {
   "cell_type": "code",
   "execution_count": 81,
   "id": "69d83ca0",
   "metadata": {},
   "outputs": [
    {
     "data": {
      "text/plain": [
       "0.0    79323\n",
       "1.0     8936\n",
       "2.0      353\n",
       "3.0       80\n",
       "4.0       19\n",
       "5.0        5\n",
       "7.0        1\n",
       "6.0        1\n",
       "Name: Bankruptcies, dtype: int64"
      ]
     },
     "execution_count": 81,
     "metadata": {},
     "output_type": "execute_result"
    }
   ],
   "source": [
    "data['Bankruptcies'].value_counts()"
   ]
  },
  {
   "cell_type": "code",
   "execution_count": 82,
   "id": "b0913a49",
   "metadata": {},
   "outputs": [],
   "source": [
    "data['Bankruptcies'].unique()\n",
    "# array([ 0.,  1., nan,  2.,  4.,  3.,  5.,  7.,  6.])\n",
    "# \n",
    "# There are NaNs. Replace them by median\n",
    "data['Bankruptcies']=data['Bankruptcies'].fillna(data['Bankruptcies'].median())"
   ]
  },
  {
   "cell_type": "code",
   "execution_count": 83,
   "id": "d6424984",
   "metadata": {},
   "outputs": [
    {
     "data": {
      "text/plain": [
       "count    88902.000000\n",
       "mean         0.028222\n",
       "std          0.257533\n",
       "min          0.000000\n",
       "25%          0.000000\n",
       "50%          0.000000\n",
       "75%          0.000000\n",
       "max         15.000000\n",
       "Name: Tax Liens, dtype: float64"
      ]
     },
     "execution_count": 83,
     "metadata": {},
     "output_type": "execute_result"
    }
   ],
   "source": [
    "# Analyse column 'Tax Liens'\n",
    "data['Tax Liens'].describe()"
   ]
  },
  {
   "cell_type": "code",
   "execution_count": 84,
   "id": "5742ce51",
   "metadata": {},
   "outputs": [
    {
     "data": {
      "text/plain": [
       "0.0     87274\n",
       "1.0      1132\n",
       "2.0       305\n",
       "3.0        99\n",
       "4.0        52\n",
       "5.0        17\n",
       "6.0         9\n",
       "7.0         5\n",
       "9.0         4\n",
       "8.0         2\n",
       "15.0        1\n",
       "10.0        1\n",
       "11.0        1\n",
       "Name: Tax Liens, dtype: int64"
      ]
     },
     "execution_count": 84,
     "metadata": {},
     "output_type": "execute_result"
    }
   ],
   "source": [
    "data['Tax Liens'].value_counts()"
   ]
  },
  {
   "cell_type": "code",
   "execution_count": 85,
   "id": "eb11fd19",
   "metadata": {},
   "outputs": [
    {
     "data": {
      "text/plain": [
       "<seaborn.axisgrid.FacetGrid at 0x1f93db28df0>"
      ]
     },
     "execution_count": 85,
     "metadata": {},
     "output_type": "execute_result"
    },
    {
     "data": {
      "image/png": "[encoded data removed]",
      "text/plain": [
       "<Figure size 360x360 with 1 Axes>"
      ]
     },
     "metadata": {
      "needs_background": "light"
     },
     "output_type": "display_data"
    }
   ],
   "source": [
    "sns.displot(data['Tax Liens'])\n",
    "# looks ok"
   ]
  },
  {
   "cell_type": "code",
   "execution_count": 86,
   "id": "096c454c",
   "metadata": {},
   "outputs": [],
   "source": [
    "####################### MISSING VALUE IMPUTATION #########################"
   ]
  },
  {
   "cell_type": "code",
   "execution_count": 87,
   "id": "a45dfb25",
   "metadata": {},
   "outputs": [
    {
     "data": {
      "text/html": [
       "<div>\n",
       "<style scoped>\n",
       "    .dataframe tbody tr th:only-of-type {\n",
       "        vertical-align: middle;\n",
       "    }\n",
       "\n",
       "    .dataframe tbody tr th {\n",
       "        vertical-align: top;\n",
       "    }\n",
       "\n",
       "    .dataframe thead th {\n",
       "        text-align: right;\n",
       "    }\n",
       "</style>\n",
       "<table border=\"1\" class=\"dataframe\">\n",
       "  <thead>\n",
       "    <tr style=\"text-align: right;\">\n",
       "      <th></th>\n",
       "      <th>Loan ID</th>\n",
       "      <th>Customer ID</th>\n",
       "      <th>Loan Status</th>\n",
       "      <th>Current Loan Amount</th>\n",
       "      <th>Term</th>\n",
       "      <th>Credit Score</th>\n",
       "      <th>Years in current job</th>\n",
       "      <th>Home Ownership</th>\n",
       "      <th>Annual Income</th>\n",
       "      <th>Purpose</th>\n",
       "      <th>Monthly Debt</th>\n",
       "      <th>Years of Credit History</th>\n",
       "      <th>Months since last delinquent</th>\n",
       "      <th>Number of Open Accounts</th>\n",
       "      <th>Number of Credit Problems</th>\n",
       "      <th>Current Credit Balance</th>\n",
       "      <th>Maximum Open Credit</th>\n",
       "      <th>Bankruptcies</th>\n",
       "      <th>Tax Liens</th>\n",
       "      <th>Credit Score_1</th>\n",
       "    </tr>\n",
       "  </thead>\n",
       "  <tbody>\n",
       "    <tr>\n",
       "      <th>0</th>\n",
       "      <td>6cf51492-02a2-423e-b93d-676f05b9ad53</td>\n",
       "      <td>7c202b37-2add-44e8-9aea-d5b119aea935</td>\n",
       "      <td>Loan Refused</td>\n",
       "      <td>12232</td>\n",
       "      <td>Short Term</td>\n",
       "      <td>728.0</td>\n",
       "      <td>&lt; 1 year</td>\n",
       "      <td>Rent</td>\n",
       "      <td>46643.0</td>\n",
       "      <td>Debt Consolidation</td>\n",
       "      <td>777.39</td>\n",
       "      <td>18.0</td>\n",
       "      <td>10.0</td>\n",
       "      <td>12</td>\n",
       "      <td>0</td>\n",
       "      <td>6762.0</td>\n",
       "      <td>7946.0</td>\n",
       "      <td>0.0</td>\n",
       "      <td>0.0</td>\n",
       "      <td>728.0</td>\n",
       "    </tr>\n",
       "    <tr>\n",
       "      <th>1</th>\n",
       "      <td>552e7ade-4292-4354-9ff9-c48031697d72</td>\n",
       "      <td>e7217b0a-07ac-47dd-b379-577b5a35b7c6</td>\n",
       "      <td>Loan Refused</td>\n",
       "      <td>25014</td>\n",
       "      <td>Long Term</td>\n",
       "      <td>733.0</td>\n",
       "      <td>10+ years</td>\n",
       "      <td>Home Mortgage</td>\n",
       "      <td>81099.0</td>\n",
       "      <td>Debt Consolidation</td>\n",
       "      <td>892.09</td>\n",
       "      <td>26.7</td>\n",
       "      <td>NaN</td>\n",
       "      <td>14</td>\n",
       "      <td>0</td>\n",
       "      <td>35706.0</td>\n",
       "      <td>77961.0</td>\n",
       "      <td>0.0</td>\n",
       "      <td>0.0</td>\n",
       "      <td>733.0</td>\n",
       "    </tr>\n",
       "    <tr>\n",
       "      <th>2</th>\n",
       "      <td>9b5e32b3-8d76-4801-afc8-d729d5a2e6b9</td>\n",
       "      <td>0a62fc41-16c8-40b5-92ff-9e4b763ce714</td>\n",
       "      <td>Loan Refused</td>\n",
       "      <td>16117</td>\n",
       "      <td>Short Term</td>\n",
       "      <td>724.0</td>\n",
       "      <td>9 years</td>\n",
       "      <td>Home Mortgage</td>\n",
       "      <td>60438.0</td>\n",
       "      <td>Home Improvements</td>\n",
       "      <td>1244.02</td>\n",
       "      <td>16.7</td>\n",
       "      <td>32.0</td>\n",
       "      <td>11</td>\n",
       "      <td>1</td>\n",
       "      <td>11275.0</td>\n",
       "      <td>14815.0</td>\n",
       "      <td>1.0</td>\n",
       "      <td>0.0</td>\n",
       "      <td>724.0</td>\n",
       "    </tr>\n",
       "    <tr>\n",
       "      <th>3</th>\n",
       "      <td>5419b7c7-ac11-4be2-a8a7-b131fb6d6dbe</td>\n",
       "      <td>30f36c59-5182-4482-8bbb-5b736849ae43</td>\n",
       "      <td>Loan Refused</td>\n",
       "      <td>11716</td>\n",
       "      <td>Short Term</td>\n",
       "      <td>740.0</td>\n",
       "      <td>3 years</td>\n",
       "      <td>Rent</td>\n",
       "      <td>34171.0</td>\n",
       "      <td>Debt Consolidation</td>\n",
       "      <td>990.94</td>\n",
       "      <td>10.0</td>\n",
       "      <td>NaN</td>\n",
       "      <td>21</td>\n",
       "      <td>0</td>\n",
       "      <td>7009.0</td>\n",
       "      <td>43533.0</td>\n",
       "      <td>0.0</td>\n",
       "      <td>0.0</td>\n",
       "      <td>740.0</td>\n",
       "    </tr>\n",
       "    <tr>\n",
       "      <th>4</th>\n",
       "      <td>1450910f-9495-4fc9-afaf-9bdf4b9821df</td>\n",
       "      <td>70c26012-bba5-42c0-8dcb-75295ada31bb</td>\n",
       "      <td>Loan Refused</td>\n",
       "      <td>9789</td>\n",
       "      <td>Long Term</td>\n",
       "      <td>686.0</td>\n",
       "      <td>10+ years</td>\n",
       "      <td>Home Mortgage</td>\n",
       "      <td>47003.0</td>\n",
       "      <td>Home Improvements</td>\n",
       "      <td>503.71</td>\n",
       "      <td>16.7</td>\n",
       "      <td>25.0</td>\n",
       "      <td>13</td>\n",
       "      <td>1</td>\n",
       "      <td>16913.0</td>\n",
       "      <td>19553.0</td>\n",
       "      <td>1.0</td>\n",
       "      <td>0.0</td>\n",
       "      <td>686.0</td>\n",
       "    </tr>\n",
       "  </tbody>\n",
       "</table>\n",
       "</div>"
      ],
      "text/plain": [
       "                                Loan ID                           Customer ID  \\\n",
       "0  6cf51492-02a2-423e-b93d-676f05b9ad53  7c202b37-2add-44e8-9aea-d5b119aea935   \n",
       "1  552e7ade-4292-4354-9ff9-c48031697d72  e7217b0a-07ac-47dd-b379-577b5a35b7c6   \n",
       "2  9b5e32b3-8d76-4801-afc8-d729d5a2e6b9  0a62fc41-16c8-40b5-92ff-9e4b763ce714   \n",
       "3  5419b7c7-ac11-4be2-a8a7-b131fb6d6dbe  30f36c59-5182-4482-8bbb-5b736849ae43   \n",
       "4  1450910f-9495-4fc9-afaf-9bdf4b9821df  70c26012-bba5-42c0-8dcb-75295ada31bb   \n",
       "\n",
       "    Loan Status  Current Loan Amount        Term  Credit Score  \\\n",
       "0  Loan Refused                12232  Short Term         728.0   \n",
       "1  Loan Refused                25014   Long Term         733.0   \n",
       "2  Loan Refused                16117  Short Term         724.0   \n",
       "3  Loan Refused                11716  Short Term         740.0   \n",
       "4  Loan Refused                 9789   Long Term         686.0   \n",
       "\n",
       "  Years in current job Home Ownership  Annual Income             Purpose  \\\n",
       "0             < 1 year           Rent        46643.0  Debt Consolidation   \n",
       "1            10+ years  Home Mortgage        81099.0  Debt Consolidation   \n",
       "2              9 years  Home Mortgage        60438.0   Home Improvements   \n",
       "3              3 years           Rent        34171.0  Debt Consolidation   \n",
       "4            10+ years  Home Mortgage        47003.0   Home Improvements   \n",
       "\n",
       "   Monthly Debt  Years of Credit History  Months since last delinquent  \\\n",
       "0        777.39                     18.0                          10.0   \n",
       "1        892.09                     26.7                           NaN   \n",
       "2       1244.02                     16.7                          32.0   \n",
       "3        990.94                     10.0                           NaN   \n",
       "4        503.71                     16.7                          25.0   \n",
       "\n",
       "   Number of Open Accounts  Number of Credit Problems  Current Credit Balance  \\\n",
       "0                       12                          0                  6762.0   \n",
       "1                       14                          0                 35706.0   \n",
       "2                       11                          1                 11275.0   \n",
       "3                       21                          0                  7009.0   \n",
       "4                       13                          1                 16913.0   \n",
       "\n",
       "   Maximum Open Credit  Bankruptcies  Tax Liens  Credit Score_1  \n",
       "0               7946.0           0.0        0.0           728.0  \n",
       "1              77961.0           0.0        0.0           733.0  \n",
       "2              14815.0           1.0        0.0           724.0  \n",
       "3              43533.0           0.0        0.0           740.0  \n",
       "4              19553.0           1.0        0.0           686.0  "
      ]
     },
     "execution_count": 87,
     "metadata": {},
     "output_type": "execute_result"
    }
   ],
   "source": [
    "data.head()"
   ]
  },
  {
   "cell_type": "code",
   "execution_count": 88,
   "id": "ca84c642",
   "metadata": {},
   "outputs": [
    {
     "data": {
      "text/plain": [
       "Loan ID                          object\n",
       "Customer ID                      object\n",
       "Loan Status                      object\n",
       "Current Loan Amount               int64\n",
       "Term                             object\n",
       "Credit Score                    float64\n",
       "Years in current job             object\n",
       "Home Ownership                   object\n",
       "Annual Income                   float64\n",
       "Purpose                          object\n",
       "Monthly Debt                    float64\n",
       "Years of Credit History         float64\n",
       "Months since last delinquent    float64\n",
       "Number of Open Accounts           int64\n",
       "Number of Credit Problems         int64\n",
       "Current Credit Balance          float64\n",
       "Maximum Open Credit             float64\n",
       "Bankruptcies                    float64\n",
       "Tax Liens                       float64\n",
       "Credit Score_1                  float64\n",
       "dtype: object"
      ]
     },
     "execution_count": 88,
     "metadata": {},
     "output_type": "execute_result"
    }
   ],
   "source": [
    "# First Convert all categorical columns to numeric\n",
    "data.dtypes\n",
    "# Loan ID                          object\n",
    "# Customer ID                      object\n",
    "# Loan Status                      object\n",
    "# Current Loan Amount               int64\n",
    "# Term                             object\n",
    "# Credit Score                    float64\n",
    "# Years in current job             object\n",
    "# Home Ownership                   object\n",
    "# Annual Income                   float64\n",
    "# Purpose                          object\n",
    "# Monthly Debt                    float64\n",
    "# Years of Credit History         float64\n",
    "# Months since last delinquent    float64\n",
    "# Number of Open Accounts           int64\n",
    "# Number of Credit Problems         int64\n",
    "# Current Credit Balance          float64\n",
    "# Maximum Open Credit             float64\n",
    "# Bankruptcies                    float64\n",
    "# Tax Liens                       float64\n",
    "# Credit Score_1                  float64"
   ]
  },
  {
   "cell_type": "code",
   "execution_count": 89,
   "id": "4b47351c",
   "metadata": {},
   "outputs": [],
   "source": [
    "# Collect categorical columns\n",
    "cat_cols = ['Loan Status','Term','Years in current job','Home Ownership','Purpose']\n",
    "for col in cat_cols:\n",
    "    data[col] = pd.factorize(data[col])[0]"
   ]
  },
  {
   "cell_type": "code",
   "execution_count": 90,
   "id": "325e3a41",
   "metadata": {},
   "outputs": [
    {
     "data": {
      "text/html": [
       "<div>\n",
       "<style scoped>\n",
       "    .dataframe tbody tr th:only-of-type {\n",
       "        vertical-align: middle;\n",
       "    }\n",
       "\n",
       "    .dataframe tbody tr th {\n",
       "        vertical-align: top;\n",
       "    }\n",
       "\n",
       "    .dataframe thead th {\n",
       "        text-align: right;\n",
       "    }\n",
       "</style>\n",
       "<table border=\"1\" class=\"dataframe\">\n",
       "  <thead>\n",
       "    <tr style=\"text-align: right;\">\n",
       "      <th></th>\n",
       "      <th>Loan ID</th>\n",
       "      <th>Customer ID</th>\n",
       "      <th>Loan Status</th>\n",
       "      <th>Current Loan Amount</th>\n",
       "      <th>Term</th>\n",
       "      <th>Credit Score</th>\n",
       "      <th>Years in current job</th>\n",
       "      <th>Home Ownership</th>\n",
       "      <th>Annual Income</th>\n",
       "      <th>Purpose</th>\n",
       "      <th>Monthly Debt</th>\n",
       "      <th>Years of Credit History</th>\n",
       "      <th>Months since last delinquent</th>\n",
       "      <th>Number of Open Accounts</th>\n",
       "      <th>Number of Credit Problems</th>\n",
       "      <th>Current Credit Balance</th>\n",
       "      <th>Maximum Open Credit</th>\n",
       "      <th>Bankruptcies</th>\n",
       "      <th>Tax Liens</th>\n",
       "      <th>Credit Score_1</th>\n",
       "    </tr>\n",
       "  </thead>\n",
       "  <tbody>\n",
       "    <tr>\n",
       "      <th>0</th>\n",
       "      <td>6cf51492-02a2-423e-b93d-676f05b9ad53</td>\n",
       "      <td>7c202b37-2add-44e8-9aea-d5b119aea935</td>\n",
       "      <td>0</td>\n",
       "      <td>12232</td>\n",
       "      <td>0</td>\n",
       "      <td>728.0</td>\n",
       "      <td>0</td>\n",
       "      <td>0</td>\n",
       "      <td>46643.0</td>\n",
       "      <td>0</td>\n",
       "      <td>777.39</td>\n",
       "      <td>18.0</td>\n",
       "      <td>10.0</td>\n",
       "      <td>12</td>\n",
       "      <td>0</td>\n",
       "      <td>6762.0</td>\n",
       "      <td>7946.0</td>\n",
       "      <td>0.0</td>\n",
       "      <td>0.0</td>\n",
       "      <td>728.0</td>\n",
       "    </tr>\n",
       "    <tr>\n",
       "      <th>1</th>\n",
       "      <td>552e7ade-4292-4354-9ff9-c48031697d72</td>\n",
       "      <td>e7217b0a-07ac-47dd-b379-577b5a35b7c6</td>\n",
       "      <td>0</td>\n",
       "      <td>25014</td>\n",
       "      <td>1</td>\n",
       "      <td>733.0</td>\n",
       "      <td>1</td>\n",
       "      <td>1</td>\n",
       "      <td>81099.0</td>\n",
       "      <td>0</td>\n",
       "      <td>892.09</td>\n",
       "      <td>26.7</td>\n",
       "      <td>NaN</td>\n",
       "      <td>14</td>\n",
       "      <td>0</td>\n",
       "      <td>35706.0</td>\n",
       "      <td>77961.0</td>\n",
       "      <td>0.0</td>\n",
       "      <td>0.0</td>\n",
       "      <td>733.0</td>\n",
       "    </tr>\n",
       "    <tr>\n",
       "      <th>2</th>\n",
       "      <td>9b5e32b3-8d76-4801-afc8-d729d5a2e6b9</td>\n",
       "      <td>0a62fc41-16c8-40b5-92ff-9e4b763ce714</td>\n",
       "      <td>0</td>\n",
       "      <td>16117</td>\n",
       "      <td>0</td>\n",
       "      <td>724.0</td>\n",
       "      <td>2</td>\n",
       "      <td>1</td>\n",
       "      <td>60438.0</td>\n",
       "      <td>1</td>\n",
       "      <td>1244.02</td>\n",
       "      <td>16.7</td>\n",
       "      <td>32.0</td>\n",
       "      <td>11</td>\n",
       "      <td>1</td>\n",
       "      <td>11275.0</td>\n",
       "      <td>14815.0</td>\n",
       "      <td>1.0</td>\n",
       "      <td>0.0</td>\n",
       "      <td>724.0</td>\n",
       "    </tr>\n",
       "    <tr>\n",
       "      <th>3</th>\n",
       "      <td>5419b7c7-ac11-4be2-a8a7-b131fb6d6dbe</td>\n",
       "      <td>30f36c59-5182-4482-8bbb-5b736849ae43</td>\n",
       "      <td>0</td>\n",
       "      <td>11716</td>\n",
       "      <td>0</td>\n",
       "      <td>740.0</td>\n",
       "      <td>3</td>\n",
       "      <td>0</td>\n",
       "      <td>34171.0</td>\n",
       "      <td>0</td>\n",
       "      <td>990.94</td>\n",
       "      <td>10.0</td>\n",
       "      <td>NaN</td>\n",
       "      <td>21</td>\n",
       "      <td>0</td>\n",
       "      <td>7009.0</td>\n",
       "      <td>43533.0</td>\n",
       "      <td>0.0</td>\n",
       "      <td>0.0</td>\n",
       "      <td>740.0</td>\n",
       "    </tr>\n",
       "    <tr>\n",
       "      <th>4</th>\n",
       "      <td>1450910f-9495-4fc9-afaf-9bdf4b9821df</td>\n",
       "      <td>70c26012-bba5-42c0-8dcb-75295ada31bb</td>\n",
       "      <td>0</td>\n",
       "      <td>9789</td>\n",
       "      <td>1</td>\n",
       "      <td>686.0</td>\n",
       "      <td>1</td>\n",
       "      <td>1</td>\n",
       "      <td>47003.0</td>\n",
       "      <td>1</td>\n",
       "      <td>503.71</td>\n",
       "      <td>16.7</td>\n",
       "      <td>25.0</td>\n",
       "      <td>13</td>\n",
       "      <td>1</td>\n",
       "      <td>16913.0</td>\n",
       "      <td>19553.0</td>\n",
       "      <td>1.0</td>\n",
       "      <td>0.0</td>\n",
       "      <td>686.0</td>\n",
       "    </tr>\n",
       "  </tbody>\n",
       "</table>\n",
       "</div>"
      ],
      "text/plain": [
       "                                Loan ID                           Customer ID  \\\n",
       "0  6cf51492-02a2-423e-b93d-676f05b9ad53  7c202b37-2add-44e8-9aea-d5b119aea935   \n",
       "1  552e7ade-4292-4354-9ff9-c48031697d72  e7217b0a-07ac-47dd-b379-577b5a35b7c6   \n",
       "2  9b5e32b3-8d76-4801-afc8-d729d5a2e6b9  0a62fc41-16c8-40b5-92ff-9e4b763ce714   \n",
       "3  5419b7c7-ac11-4be2-a8a7-b131fb6d6dbe  30f36c59-5182-4482-8bbb-5b736849ae43   \n",
       "4  1450910f-9495-4fc9-afaf-9bdf4b9821df  70c26012-bba5-42c0-8dcb-75295ada31bb   \n",
       "\n",
       "   Loan Status  Current Loan Amount  Term  Credit Score  Years in current job  \\\n",
       "0            0                12232     0         728.0                     0   \n",
       "1            0                25014     1         733.0                     1   \n",
       "2            0                16117     0         724.0                     2   \n",
       "3            0                11716     0         740.0                     3   \n",
       "4            0                 9789     1         686.0                     1   \n",
       "\n",
       "   Home Ownership  Annual Income  Purpose  Monthly Debt  \\\n",
       "0               0        46643.0        0        777.39   \n",
       "1               1        81099.0        0        892.09   \n",
       "2               1        60438.0        1       1244.02   \n",
       "3               0        34171.0        0        990.94   \n",
       "4               1        47003.0        1        503.71   \n",
       "\n",
       "   Years of Credit History  Months since last delinquent  \\\n",
       "0                     18.0                          10.0   \n",
       "1                     26.7                           NaN   \n",
       "2                     16.7                          32.0   \n",
       "3                     10.0                           NaN   \n",
       "4                     16.7                          25.0   \n",
       "\n",
       "   Number of Open Accounts  Number of Credit Problems  Current Credit Balance  \\\n",
       "0                       12                          0                  6762.0   \n",
       "1                       14                          0                 35706.0   \n",
       "2                       11                          1                 11275.0   \n",
       "3                       21                          0                  7009.0   \n",
       "4                       13                          1                 16913.0   \n",
       "\n",
       "   Maximum Open Credit  Bankruptcies  Tax Liens  Credit Score_1  \n",
       "0               7946.0           0.0        0.0           728.0  \n",
       "1              77961.0           0.0        0.0           733.0  \n",
       "2              14815.0           1.0        0.0           724.0  \n",
       "3              43533.0           0.0        0.0           740.0  \n",
       "4              19553.0           1.0        0.0           686.0  "
      ]
     },
     "execution_count": 90,
     "metadata": {},
     "output_type": "execute_result"
    }
   ],
   "source": [
    "data.head()"
   ]
  },
  {
   "cell_type": "code",
   "execution_count": 91,
   "id": "f44ae369",
   "metadata": {},
   "outputs": [
    {
     "data": {
      "text/plain": [
       "Loan ID                          object\n",
       "Customer ID                      object\n",
       "Loan Status                       int64\n",
       "Current Loan Amount               int64\n",
       "Term                              int64\n",
       "Credit Score                    float64\n",
       "Years in current job              int64\n",
       "Home Ownership                    int64\n",
       "Annual Income                   float64\n",
       "Purpose                           int64\n",
       "Monthly Debt                    float64\n",
       "Years of Credit History         float64\n",
       "Months since last delinquent    float64\n",
       "Number of Open Accounts           int64\n",
       "Number of Credit Problems         int64\n",
       "Current Credit Balance          float64\n",
       "Maximum Open Credit             float64\n",
       "Bankruptcies                    float64\n",
       "Tax Liens                       float64\n",
       "Credit Score_1                  float64\n",
       "dtype: object"
      ]
     },
     "execution_count": 91,
     "metadata": {},
     "output_type": "execute_result"
    }
   ],
   "source": [
    "data.dtypes   \n",
    "#---------------------------------------------------------------------------\n",
    "# First two ID columns will be excluded in soft imputation. From third to\n",
    "# last all columns are numeric now.Also 'Credit Score_1 ' not needed now\n",
    "#---------------------------------------------------------------------------\n",
    "#1 Loan ID                          object\n",
    "#2 Customer ID                      object\n",
    "#3 Loan Status                       int64\n",
    "#4 Current Loan Amount               int64\n",
    "#5 Term                              int64\n",
    "#6 Credit Score                    float64\n",
    "#7 Years in current job              int64\n",
    "#8 Home Ownership                    int64\n",
    "#9 Annual Income                   float64\n",
    "#10 Purpose                           int64\n",
    "#11 Monthly Debt                    float64\n",
    "#12 Years of Credit History         float64\n",
    "#13 Months since last delinquent    float64\n",
    "#14 Number of Open Accounts           int64\n",
    "#15 Number of Credit Problems         int64\n",
    "#16 Current Credit Balance          float64\n",
    "#17 Maximum Open Credit             float64\n",
    "#18 Bankruptcies                    float64\n",
    "#19 Tax Liens                       float64\n",
    "#20 Credit Score_1                  float64"
   ]
  },
  {
   "cell_type": "code",
   "execution_count": 92,
   "id": "b8658d39",
   "metadata": {
    "scrolled": true
   },
   "outputs": [
    {
     "name": "stdout",
     "output_type": "stream",
     "text": [
      "[SoftImpute] Max Singular Value of X_init = 23581840.661630\n",
      "[SoftImpute] Iter 1: observed MAE=326.719869 rank=4\n",
      "[SoftImpute] Iter 2: observed MAE=326.695120 rank=4\n",
      "[SoftImpute] Iter 3: observed MAE=326.719147 rank=4\n",
      "[SoftImpute] Iter 4: observed MAE=326.755147 rank=4\n",
      "[SoftImpute] Iter 5: observed MAE=326.793361 rank=4\n",
      "[SoftImpute] Iter 6: observed MAE=326.830860 rank=4\n",
      "[SoftImpute] Iter 7: observed MAE=326.866761 rank=4\n",
      "[SoftImpute] Iter 8: observed MAE=326.900825 rank=4\n",
      "[SoftImpute] Iter 9: observed MAE=326.933163 rank=4\n",
      "[SoftImpute] Iter 10: observed MAE=326.963771 rank=4\n",
      "[SoftImpute] Iter 11: observed MAE=326.992651 rank=4\n",
      "[SoftImpute] Iter 12: observed MAE=327.019851 rank=4\n",
      "[SoftImpute] Iter 13: observed MAE=327.045350 rank=4\n",
      "[SoftImpute] Iter 14: observed MAE=327.069219 rank=4\n",
      "[SoftImpute] Iter 15: observed MAE=327.091560 rank=4\n",
      "[SoftImpute] Iter 16: observed MAE=327.112525 rank=4\n",
      "[SoftImpute] Iter 17: observed MAE=327.132073 rank=4\n",
      "[SoftImpute] Iter 18: observed MAE=327.150253 rank=4\n",
      "[SoftImpute] Iter 19: observed MAE=327.167062 rank=4\n",
      "[SoftImpute] Iter 20: observed MAE=327.182638 rank=4\n",
      "[SoftImpute] Iter 21: observed MAE=327.196977 rank=4\n",
      "[SoftImpute] Iter 22: observed MAE=327.210093 rank=4\n",
      "[SoftImpute] Iter 23: observed MAE=327.221991 rank=4\n",
      "[SoftImpute] Iter 24: observed MAE=327.232743 rank=4\n",
      "[SoftImpute] Iter 25: observed MAE=327.242446 rank=4\n",
      "[SoftImpute] Iter 26: observed MAE=327.251264 rank=4\n",
      "[SoftImpute] Iter 27: observed MAE=327.259196 rank=4\n",
      "[SoftImpute] Iter 28: observed MAE=327.266203 rank=4\n",
      "[SoftImpute] Iter 29: observed MAE=327.272385 rank=4\n",
      "[SoftImpute] Iter 30: observed MAE=327.277725 rank=4\n",
      "[SoftImpute] Iter 31: observed MAE=327.282242 rank=4\n",
      "[SoftImpute] Iter 32: observed MAE=327.286124 rank=4\n",
      "[SoftImpute] Iter 33: observed MAE=327.289314 rank=4\n",
      "[SoftImpute] Iter 34: observed MAE=327.291816 rank=4\n",
      "[SoftImpute] Iter 35: observed MAE=327.293691 rank=4\n",
      "[SoftImpute] Iter 36: observed MAE=327.295023 rank=4\n",
      "[SoftImpute] Iter 37: observed MAE=327.295741 rank=4\n",
      "[SoftImpute] Iter 38: observed MAE=327.295892 rank=4\n",
      "[SoftImpute] Iter 39: observed MAE=327.295588 rank=4\n",
      "[SoftImpute] Iter 40: observed MAE=327.294771 rank=4\n",
      "[SoftImpute] Iter 41: observed MAE=327.293570 rank=4\n",
      "[SoftImpute] Iter 42: observed MAE=327.291965 rank=4\n",
      "[SoftImpute] Iter 43: observed MAE=327.289991 rank=4\n",
      "[SoftImpute] Iter 44: observed MAE=327.287689 rank=4\n",
      "[SoftImpute] Iter 45: observed MAE=327.285053 rank=4\n",
      "[SoftImpute] Iter 46: observed MAE=327.282103 rank=4\n",
      "[SoftImpute] Iter 47: observed MAE=327.278904 rank=4\n",
      "[SoftImpute] Iter 48: observed MAE=327.275457 rank=4\n",
      "[SoftImpute] Iter 49: observed MAE=327.271736 rank=4\n",
      "[SoftImpute] Iter 50: observed MAE=327.267816 rank=4\n",
      "[SoftImpute] Iter 51: observed MAE=327.263695 rank=4\n",
      "[SoftImpute] Iter 52: observed MAE=327.259391 rank=4\n",
      "[SoftImpute] Iter 53: observed MAE=327.254908 rank=4\n",
      "[SoftImpute] Iter 54: observed MAE=327.250292 rank=4\n",
      "[SoftImpute] Iter 55: observed MAE=327.245562 rank=4\n",
      "[SoftImpute] Iter 56: observed MAE=327.240719 rank=4\n",
      "[SoftImpute] Iter 57: observed MAE=327.235761 rank=4\n",
      "[SoftImpute] Iter 58: observed MAE=327.230698 rank=4\n",
      "[SoftImpute] Iter 59: observed MAE=327.225566 rank=4\n",
      "[SoftImpute] Iter 60: observed MAE=327.220357 rank=4\n",
      "[SoftImpute] Iter 61: observed MAE=327.215085 rank=4\n",
      "[SoftImpute] Iter 62: observed MAE=327.209755 rank=4\n",
      "[SoftImpute] Iter 63: observed MAE=327.204387 rank=4\n",
      "[SoftImpute] Iter 64: observed MAE=327.198987 rank=4\n",
      "[SoftImpute] Iter 65: observed MAE=327.193541 rank=4\n",
      "[SoftImpute] Iter 66: observed MAE=327.188079 rank=4\n",
      "[SoftImpute] Iter 67: observed MAE=327.182614 rank=4\n",
      "[SoftImpute] Iter 68: observed MAE=327.177132 rank=4\n",
      "[SoftImpute] Iter 69: observed MAE=327.171635 rank=4\n",
      "[SoftImpute] Iter 70: observed MAE=327.166149 rank=4\n",
      "[SoftImpute] Iter 71: observed MAE=327.160679 rank=4\n",
      "[SoftImpute] Iter 72: observed MAE=327.155232 rank=4\n",
      "[SoftImpute] Iter 73: observed MAE=327.149804 rank=4\n",
      "[SoftImpute] Iter 74: observed MAE=327.144399 rank=4\n",
      "[SoftImpute] Iter 75: observed MAE=327.139028 rank=4\n",
      "[SoftImpute] Iter 76: observed MAE=327.133687 rank=4\n",
      "[SoftImpute] Iter 77: observed MAE=327.128393 rank=4\n",
      "[SoftImpute] Iter 78: observed MAE=327.123134 rank=4\n",
      "[SoftImpute] Iter 79: observed MAE=327.117933 rank=4\n",
      "[SoftImpute] Iter 80: observed MAE=327.112789 rank=4\n",
      "[SoftImpute] Iter 81: observed MAE=327.107706 rank=4\n",
      "[SoftImpute] Iter 82: observed MAE=327.102682 rank=4\n",
      "[SoftImpute] Iter 83: observed MAE=327.097726 rank=4\n",
      "[SoftImpute] Iter 84: observed MAE=327.092840 rank=4\n",
      "[SoftImpute] Iter 85: observed MAE=327.088016 rank=4\n",
      "[SoftImpute] Iter 86: observed MAE=327.083252 rank=4\n",
      "[SoftImpute] Iter 87: observed MAE=327.078550 rank=4\n",
      "[SoftImpute] Iter 88: observed MAE=327.073919 rank=4\n",
      "[SoftImpute] Iter 89: observed MAE=327.069348 rank=4\n",
      "[SoftImpute] Iter 90: observed MAE=327.064854 rank=4\n",
      "[SoftImpute] Iter 91: observed MAE=327.060448 rank=4\n",
      "[SoftImpute] Iter 92: observed MAE=327.056117 rank=4\n",
      "[SoftImpute] Iter 93: observed MAE=327.051855 rank=4\n",
      "[SoftImpute] Iter 94: observed MAE=327.047663 rank=4\n",
      "[SoftImpute] Iter 95: observed MAE=327.043540 rank=4\n",
      "[SoftImpute] Iter 96: observed MAE=327.039487 rank=4\n",
      "[SoftImpute] Iter 97: observed MAE=327.035507 rank=4\n",
      "[SoftImpute] Iter 98: observed MAE=327.031602 rank=4\n",
      "[SoftImpute] Iter 99: observed MAE=327.027772 rank=4\n",
      "[SoftImpute] Iter 100: observed MAE=327.024009 rank=4\n",
      "[SoftImpute] Stopped after iteration 100 for lambda=471636.813233\n"
     ]
    }
   ],
   "source": [
    "#Imputing missing data with soft impute in columns 3 to 19\n",
    "updated_data=pd.DataFrame(data=SoftImpute().fit_transform(data[data.columns[3:19]],), columns=data[data.columns[3:19]].columns, index=data.index)"
   ]
  },
  {
   "cell_type": "code",
   "execution_count": 93,
   "id": "da9b260b",
   "metadata": {},
   "outputs": [
    {
     "data": {
      "text/html": [
       "<div>\n",
       "<style scoped>\n",
       "    .dataframe tbody tr th:only-of-type {\n",
       "        vertical-align: middle;\n",
       "    }\n",
       "\n",
       "    .dataframe tbody tr th {\n",
       "        vertical-align: top;\n",
       "    }\n",
       "\n",
       "    .dataframe thead th {\n",
       "        text-align: right;\n",
       "    }\n",
       "</style>\n",
       "<table border=\"1\" class=\"dataframe\">\n",
       "  <thead>\n",
       "    <tr style=\"text-align: right;\">\n",
       "      <th></th>\n",
       "      <th>Current Loan Amount</th>\n",
       "      <th>Term</th>\n",
       "      <th>Credit Score</th>\n",
       "      <th>Years in current job</th>\n",
       "      <th>Home Ownership</th>\n",
       "      <th>Annual Income</th>\n",
       "      <th>Purpose</th>\n",
       "      <th>Monthly Debt</th>\n",
       "      <th>Years of Credit History</th>\n",
       "      <th>Months since last delinquent</th>\n",
       "      <th>Number of Open Accounts</th>\n",
       "      <th>Number of Credit Problems</th>\n",
       "      <th>Current Credit Balance</th>\n",
       "      <th>Maximum Open Credit</th>\n",
       "      <th>Bankruptcies</th>\n",
       "      <th>Tax Liens</th>\n",
       "    </tr>\n",
       "  </thead>\n",
       "  <tbody>\n",
       "    <tr>\n",
       "      <th>0</th>\n",
       "      <td>12232.0</td>\n",
       "      <td>0.0</td>\n",
       "      <td>728.0</td>\n",
       "      <td>0.0</td>\n",
       "      <td>0.0</td>\n",
       "      <td>46643.0</td>\n",
       "      <td>0.0</td>\n",
       "      <td>777.39</td>\n",
       "      <td>18.0</td>\n",
       "      <td>10.000000</td>\n",
       "      <td>12.0</td>\n",
       "      <td>0.0</td>\n",
       "      <td>6762.0</td>\n",
       "      <td>7946.0</td>\n",
       "      <td>0.0</td>\n",
       "      <td>0.0</td>\n",
       "    </tr>\n",
       "    <tr>\n",
       "      <th>1</th>\n",
       "      <td>25014.0</td>\n",
       "      <td>1.0</td>\n",
       "      <td>733.0</td>\n",
       "      <td>1.0</td>\n",
       "      <td>1.0</td>\n",
       "      <td>81099.0</td>\n",
       "      <td>0.0</td>\n",
       "      <td>892.09</td>\n",
       "      <td>26.7</td>\n",
       "      <td>45.018847</td>\n",
       "      <td>14.0</td>\n",
       "      <td>0.0</td>\n",
       "      <td>35706.0</td>\n",
       "      <td>77961.0</td>\n",
       "      <td>0.0</td>\n",
       "      <td>0.0</td>\n",
       "    </tr>\n",
       "    <tr>\n",
       "      <th>2</th>\n",
       "      <td>16117.0</td>\n",
       "      <td>0.0</td>\n",
       "      <td>724.0</td>\n",
       "      <td>2.0</td>\n",
       "      <td>1.0</td>\n",
       "      <td>60438.0</td>\n",
       "      <td>1.0</td>\n",
       "      <td>1244.02</td>\n",
       "      <td>16.7</td>\n",
       "      <td>32.000000</td>\n",
       "      <td>11.0</td>\n",
       "      <td>1.0</td>\n",
       "      <td>11275.0</td>\n",
       "      <td>14815.0</td>\n",
       "      <td>1.0</td>\n",
       "      <td>0.0</td>\n",
       "    </tr>\n",
       "    <tr>\n",
       "      <th>3</th>\n",
       "      <td>11716.0</td>\n",
       "      <td>0.0</td>\n",
       "      <td>740.0</td>\n",
       "      <td>3.0</td>\n",
       "      <td>0.0</td>\n",
       "      <td>34171.0</td>\n",
       "      <td>0.0</td>\n",
       "      <td>990.94</td>\n",
       "      <td>10.0</td>\n",
       "      <td>20.565768</td>\n",
       "      <td>21.0</td>\n",
       "      <td>0.0</td>\n",
       "      <td>7009.0</td>\n",
       "      <td>43533.0</td>\n",
       "      <td>0.0</td>\n",
       "      <td>0.0</td>\n",
       "    </tr>\n",
       "    <tr>\n",
       "      <th>4</th>\n",
       "      <td>9789.0</td>\n",
       "      <td>1.0</td>\n",
       "      <td>686.0</td>\n",
       "      <td>1.0</td>\n",
       "      <td>1.0</td>\n",
       "      <td>47003.0</td>\n",
       "      <td>1.0</td>\n",
       "      <td>503.71</td>\n",
       "      <td>16.7</td>\n",
       "      <td>25.000000</td>\n",
       "      <td>13.0</td>\n",
       "      <td>1.0</td>\n",
       "      <td>16913.0</td>\n",
       "      <td>19553.0</td>\n",
       "      <td>1.0</td>\n",
       "      <td>0.0</td>\n",
       "    </tr>\n",
       "  </tbody>\n",
       "</table>\n",
       "</div>"
      ],
      "text/plain": [
       "   Current Loan Amount  Term  Credit Score  Years in current job  \\\n",
       "0              12232.0   0.0         728.0                   0.0   \n",
       "1              25014.0   1.0         733.0                   1.0   \n",
       "2              16117.0   0.0         724.0                   2.0   \n",
       "3              11716.0   0.0         740.0                   3.0   \n",
       "4               9789.0   1.0         686.0                   1.0   \n",
       "\n",
       "   Home Ownership  Annual Income  Purpose  Monthly Debt  \\\n",
       "0             0.0        46643.0      0.0        777.39   \n",
       "1             1.0        81099.0      0.0        892.09   \n",
       "2             1.0        60438.0      1.0       1244.02   \n",
       "3             0.0        34171.0      0.0        990.94   \n",
       "4             1.0        47003.0      1.0        503.71   \n",
       "\n",
       "   Years of Credit History  Months since last delinquent  \\\n",
       "0                     18.0                     10.000000   \n",
       "1                     26.7                     45.018847   \n",
       "2                     16.7                     32.000000   \n",
       "3                     10.0                     20.565768   \n",
       "4                     16.7                     25.000000   \n",
       "\n",
       "   Number of Open Accounts  Number of Credit Problems  Current Credit Balance  \\\n",
       "0                     12.0                        0.0                  6762.0   \n",
       "1                     14.0                        0.0                 35706.0   \n",
       "2                     11.0                        1.0                 11275.0   \n",
       "3                     21.0                        0.0                  7009.0   \n",
       "4                     13.0                        1.0                 16913.0   \n",
       "\n",
       "   Maximum Open Credit  Bankruptcies  Tax Liens  \n",
       "0               7946.0           0.0        0.0  \n",
       "1              77961.0           0.0        0.0  \n",
       "2              14815.0           1.0        0.0  \n",
       "3              43533.0           0.0        0.0  \n",
       "4              19553.0           1.0        0.0  "
      ]
     },
     "execution_count": 93,
     "metadata": {},
     "output_type": "execute_result"
    }
   ],
   "source": [
    "updated_data.head()\n",
    "# Note: updated_data does not have 'Loan_Status' [Targetvariable]\n",
    "# and 'Credit Score_1' which is unrequired column now"
   ]
  },
  {
   "cell_type": "code",
   "execution_count": 94,
   "id": "513ee148",
   "metadata": {},
   "outputs": [],
   "source": [
    "# drop dummy variables to obtain a DF of independent variables\n",
    "df_ind_vars = pd.get_dummies(updated_data, drop_first=True)"
   ]
  },
  {
   "cell_type": "code",
   "execution_count": 95,
   "id": "dd5ed801",
   "metadata": {},
   "outputs": [
    {
     "name": "stdout",
     "output_type": "stream",
     "text": [
      "[[-0.23112821 -0.57302977  0.06886311 ... -0.79845406 -0.32781073\n",
      "  -0.10958473]\n",
      " [ 1.44530309  1.74511004  0.26644983 ...  1.83825398 -0.32781073\n",
      "  -0.10958473]\n",
      " [ 0.27841142 -0.57302977 -0.08920626 ... -0.5397731   2.58792074\n",
      "  -0.10958473]\n",
      " ...\n",
      " [ 1.36398659 -0.57302977  0.78017528 ...  0.91232753 -0.32781073\n",
      "  -0.10958473]\n",
      " [-1.17571107 -0.57302977 -0.16824094 ... -0.40393641 -0.32781073\n",
      "  -0.10958473]\n",
      " [ 0.58387289 -0.57302977 -0.32631031 ... -0.30218128 -0.32781073\n",
      "   3.77361165]]\n",
      "   \n",
      "(88910, 16)\n"
     ]
    }
   ],
   "source": [
    "# Scaling the independent variables\n",
    "X_scaled = preprocessing.scale(df_ind_vars)\n",
    "print(X_scaled)\n",
    "print('   ')\n",
    "print(X_scaled.shape)"
   ]
  },
  {
   "cell_type": "code",
   "execution_count": 96,
   "id": "480a3606",
   "metadata": {},
   "outputs": [
    {
     "data": {
      "text/plain": [
       "0        0\n",
       "1        0\n",
       "2        0\n",
       "3        0\n",
       "4        0\n",
       "        ..\n",
       "88905    1\n",
       "88906    1\n",
       "88907    1\n",
       "88908    0\n",
       "88909    1\n",
       "Name: Loan Status, Length: 88910, dtype: int64"
      ]
     },
     "execution_count": 96,
     "metadata": {},
     "output_type": "execute_result"
    }
   ],
   "source": [
    "# Target variable y\n",
    "y = data['Loan Status']\n",
    "y"
   ]
  },
  {
   "cell_type": "code",
   "execution_count": 97,
   "id": "2fe77a37",
   "metadata": {},
   "outputs": [],
   "source": [
    "# Create Train and test dataset in 70:30 proportion\n",
    "X_train, X_test, y_train, y_test = train_test_split(X_scaled, y, test_size=0.3, random_state=22)"
   ]
  },
  {
   "cell_type": "code",
   "execution_count": 98,
   "id": "e190eb5b",
   "metadata": {},
   "outputs": [],
   "source": [
    "def classify(est, x, y,X_test,y_test):\n",
    "    #Passing the model and train test dataset to fit the model\n",
    "    est.fit(x, y)\n",
    "    #Predicting the probabilities of the Tet data\n",
    "    y2 = est.predict_proba(X_test)\n",
    "    y1 = est.predict(X_test)\n",
    "\n",
    "    print(\"Accuracy: \", metrics.accuracy_score(y_test, y1))\n",
    "    print(\"Area under the ROC curve: \", metrics.roc_auc_score(y_test, y2[:, 1]))\n",
    "    #Calculate different metrics\n",
    "    print(\"F-metric: \", metrics.f1_score(y_test, y1))\n",
    "    print(\" \")\n",
    "    print(\"Classification report:\")\n",
    "    print(metrics.classification_report(y_test, y1))\n",
    "    print(\" \")\n",
    "    print(\"Evaluation by cross-validation:\")\n",
    "    print(cross_val_score(est, x, y))\n",
    "    \n",
    "    return est, y1, y2[:, 1]"
   ]
  },
  {
   "cell_type": "code",
   "execution_count": 99,
   "id": "fc719eff",
   "metadata": {},
   "outputs": [
    {
     "name": "stdout",
     "output_type": "stream",
     "text": [
      "Accuracy:  0.7263524912833202\n",
      "Area under the ROC curve:  0.740163556281464\n",
      "F-metric:  0.8247665234196816\n",
      " \n",
      "Classification report:\n",
      "              precision    recall  f1-score   support\n",
      "\n",
      "           0       0.55      0.29      0.38      7692\n",
      "           1       0.76      0.90      0.82     18981\n",
      "\n",
      "    accuracy                           0.73     26673\n",
      "   macro avg       0.65      0.60      0.60     26673\n",
      "weighted avg       0.70      0.73      0.70     26673\n",
      "\n",
      " \n",
      "Evaluation by cross-validation:\n",
      "[0.73304949 0.73505784 0.73439383 0.73543826 0.72893067]\n"
     ]
    }
   ],
   "source": [
    "#Finding accuracy and  XGB classifier\n",
    "xgb0, y_pred_b, y_pred2_b = classify(XGBClassifier(use_label_encoder=False,eval_metric = \"logloss\"), X_train, y_train,X_test,y_test)"
   ]
  },
  {
   "cell_type": "code",
   "execution_count": 100,
   "id": "04968517",
   "metadata": {},
   "outputs": [
    {
     "name": "stdout",
     "output_type": "stream",
     "text": [
      "[0.15168141 0.23618212 0.16082595 0.02994491 0.04982921 0.04279422\n",
      " 0.03189875 0.0314513  0.02940266 0.02881081 0.028467   0.02857387\n",
      " 0.03336042 0.03663577 0.03193811 0.04820342]\n"
     ]
    },
    {
     "data": {
      "image/png": "[encoded data removed]",
      "text/plain": [
       "<Figure size 432x288 with 1 Axes>"
      ]
     },
     "metadata": {
      "needs_background": "light"
     },
     "output_type": "display_data"
    }
   ],
   "source": [
    "# Find feature importance using XGB classifier\n",
    "print(xgb0.feature_importances_)\n",
    "plot_importance(xgb0)\n",
    "pyplot.show()"
   ]
  },
  {
   "cell_type": "code",
   "execution_count": 103,
   "id": "442959b7",
   "metadata": {},
   "outputs": [],
   "source": [
    "def feature_importance(estimator):\n",
    "    import operator\n",
    "    feature_importance = {}\n",
    "    for index, name in enumerate(df_ind_vars.columns):\n",
    "        feature_importance[name] = estimator.feature_importances_[index]\n",
    "\n",
    "    feature_importance = {k: v for k, v in feature_importance.items()}\n",
    "    sorted_x = sorted(feature_importance.items(), key=operator.itemgetter(1), reverse = True)\n",
    "    \n",
    "    return sorted_x"
   ]
  },
  {
   "cell_type": "code",
   "execution_count": 104,
   "id": "73e065e7",
   "metadata": {},
   "outputs": [],
   "source": [
    "def Sort_Tuple(list_of_tup): \n",
    "    # getting length of list of tuples\n",
    "    lst = len(list_of_tup) \n",
    "    for i in range(0, lst): \n",
    "          \n",
    "        for j in range(0, lst-i-1): \n",
    "            if (list_of_tup[j][1] > list_of_tup[j + 1][1]): \n",
    "                temp = list_of_tup[j] \n",
    "                list_of_tup[j]= list_of_tup[j + 1] \n",
    "                list_of_tup[j + 1]= temp \n",
    "    return list_of_tup "
   ]
  },
  {
   "cell_type": "code",
   "execution_count": 105,
   "id": "f5dd9734",
   "metadata": {},
   "outputs": [
    {
     "data": {
      "text/plain": [
       "[('Number of Open Accounts', 0.028466996),\n",
       " ('Number of Credit Problems', 0.028573869),\n",
       " ('Months since last delinquent', 0.028810808),\n",
       " ('Years of Credit History', 0.029402664),\n",
       " ('Years in current job', 0.02994491),\n",
       " ('Monthly Debt', 0.031451304),\n",
       " ('Purpose', 0.031898748),\n",
       " ('Bankruptcies', 0.031938113),\n",
       " ('Current Credit Balance', 0.03336042),\n",
       " ('Maximum Open Credit', 0.036635768),\n",
       " ('Annual Income', 0.04279422),\n",
       " ('Tax Liens', 0.048203416),\n",
       " ('Home Ownership', 0.04982921),\n",
       " ('Current Loan Amount', 0.15168141),\n",
       " ('Credit Score', 0.16082595),\n",
       " ('Term', 0.23618212)]"
      ]
     },
     "execution_count": 105,
     "metadata": {},
     "output_type": "execute_result"
    }
   ],
   "source": [
    "feat_imp1 = feature_importance(xgb0)\n",
    "feat_imp1 = Sort_Tuple(feat_imp1)\n",
    "feat_imp1\n",
    "# Shows importance of various dependent variables in ascending order \n",
    "# Least important variable is first, most important variable is last"
   ]
  },
  {
   "cell_type": "code",
   "execution_count": 107,
   "id": "d64ca2f6",
   "metadata": {},
   "outputs": [
    {
     "name": "stdout",
     "output_type": "stream",
     "text": [
      "Accuracy:  0.7257526337494845\n",
      "Area under the ROC curve:  0.7385551212049009\n",
      "F-metric:  0.8284434437955862\n",
      " \n",
      "Classification report:\n",
      "              precision    recall  f1-score   support\n",
      "\n",
      "           0       0.56      0.22      0.32      7692\n",
      "           1       0.75      0.93      0.83     18981\n",
      "\n",
      "    accuracy                           0.73     26673\n",
      "   macro avg       0.65      0.58      0.57     26673\n",
      "weighted avg       0.69      0.73      0.68     26673\n",
      "\n",
      " \n",
      "Evaluation by cross-validation:\n",
      "[0.73963689 0.73923522 0.73913393 0.73648269 0.73029646]\n"
     ]
    }
   ],
   "source": [
    "# Trying tuned XGB classifier, accuracy can be pushed up from 0.73 to 0.74\n",
    "# And F-1 score from 0.82 to 0.83, recall for decision '1' ['Give_loan']\n",
    "# increases from 0.90 to 0.93. So more tuning can give still better result\n",
    "xgb1, y_pred_b, y_pred2_b = classify(XGBClassifier(use_label_encoder=False,eval_metric = \"logloss\",n_estimators=47, learning_rate=0.015), X_train, y_train,X_test,y_test)\n",
    "# Evaluation by cross-validation:\n",
    "# [0.73963689 0.73923522 0.73913393 0.73648269 0.73029646]"
   ]
  },
  {
   "cell_type": "code",
   "execution_count": 108,
   "id": "d9f21c5f",
   "metadata": {},
   "outputs": [
    {
     "name": "stdout",
     "output_type": "stream",
     "text": [
      "Accuracy:  0.6818130693960185\n",
      "Area under the ROC curve:  0.6041869900390031\n",
      "F-metric:  0.793126142595978\n",
      " \n",
      "Classification report:\n",
      "              precision    recall  f1-score   support\n",
      "\n",
      "           0       0.41      0.25      0.31      7692\n",
      "           1       0.74      0.86      0.79     18981\n",
      "\n",
      "    accuracy                           0.68     26673\n",
      "   macro avg       0.58      0.55      0.55     26673\n",
      "weighted avg       0.64      0.68      0.65     26673\n",
      "\n",
      " \n",
      "Evaluation by cross-validation:\n",
      "[0.69095437 0.69328406 0.69149193 0.6930184  0.69149193]\n"
     ]
    }
   ],
   "source": [
    "#KNN classifier\n",
    "knc, y_p, y_p2 = classify(KNeighborsClassifier(), X_train, y_train,X_test,y_test)\n",
    "# Evaluation by cross-validation:\n",
    "# [0.69095437 0.69328406 0.69149193 0.6930184  0.69149193]"
   ]
  },
  {
   "cell_type": "code",
   "execution_count": 109,
   "id": "c7f652ea",
   "metadata": {},
   "outputs": [
    {
     "name": "stdout",
     "output_type": "stream",
     "text": [
      "Accuracy:  0.6541071495519815\n",
      "Area under the ROC curve:  0.5844644833683343\n",
      "F-metric:  0.7550185873605948\n",
      " \n",
      "Classification report:\n",
      "              precision    recall  f1-score   support\n",
      "\n",
      "           0       0.40      0.42      0.41      7692\n",
      "           1       0.76      0.75      0.76     18981\n",
      "\n",
      "    accuracy                           0.65     26673\n",
      "   macro avg       0.58      0.58      0.58     26673\n",
      "weighted avg       0.66      0.65      0.66     26673\n",
      "\n",
      " \n",
      "Evaluation by cross-validation:\n",
      "[0.65769602 0.66139139 0.66048044 0.65566    0.64955411]\n"
     ]
    }
   ],
   "source": [
    "## Decision Tree Classifier\n",
    "dtc, y_p, y_p2 = classify(DecisionTreeClassifier(), X_train, y_train,X_test,y_test)\n",
    "# Evaluation by cross-validation:\n",
    "# [0.65809769 0.66066838 0.66385474 0.65156263 0.65557966]"
   ]
  },
  {
   "cell_type": "code",
   "execution_count": 110,
   "id": "b2cda26d",
   "metadata": {},
   "outputs": [
    {
     "name": "stdout",
     "output_type": "stream",
     "text": [
      "Accuracy:  0.7188917632062385\n",
      "Area under the ROC curve:  0.6706913484905658\n",
      "F-metric:  0.8292338526008929\n",
      " \n",
      "Classification report:\n",
      "              precision    recall  f1-score   support\n",
      "\n",
      "           0       0.56      0.13      0.21      7692\n",
      "           1       0.73      0.96      0.83     18981\n",
      "\n",
      "    accuracy                           0.72     26673\n",
      "   macro avg       0.64      0.54      0.52     26673\n",
      "weighted avg       0.68      0.72      0.65     26673\n",
      "\n",
      " \n",
      "Evaluation by cross-validation:\n",
      "[0.72413239 0.72806877 0.72635977 0.7282076  0.72467261]\n"
     ]
    }
   ],
   "source": [
    "## Logit model \n",
    "logit, y_p, y_p2 = classify(LogisticRegression(), X_train, y_train,X_test,y_test)\n",
    "# Evaluation by cross-validation:\n",
    "# [0.72413239 0.72806877 0.72635977 0.7282076  0.72467261]"
   ]
  },
  {
   "cell_type": "code",
   "execution_count": 111,
   "id": "eb8e0078",
   "metadata": {},
   "outputs": [],
   "source": [
    "# Plot ROC curve for various models and find the best\n",
    "def run_models(X_train, y_train, X_test, y_test, model_type = 'Non-balanced'):\n",
    "    \n",
    "    clfs = {'GradientBoosting': GradientBoostingClassifier(max_depth= 6, n_estimators=100, max_features = 0.3),\n",
    "            'LogisticRegression' : LogisticRegression(),\n",
    "            'RandomForestClassifier': RandomForestClassifier(n_estimators=10),\n",
    "            'XGBClassifier': XGBClassifier(use_label_encoder=False,eval_metric = \"logloss\")\n",
    "            }\n",
    "    cols = ['model','matthews_corrcoef', 'roc_auc_score', 'precision_score', 'recall_score','f1_score']\n",
    "\n",
    "    models_report = pd.DataFrame(columns = cols)\n",
    "    conf_matrix = dict()\n",
    "\n",
    "    for clf, clf_name in zip(clfs.values(), clfs.keys()):\n",
    "\n",
    "        clf.fit(X_train, y_train)\n",
    "\n",
    "        y_pred = clf.predict(X_test)\n",
    "        y_score = clf.predict_proba(X_test)[:,1]\n",
    "\n",
    "        print('computing {} - {} '.format(clf_name, model_type))\n",
    "\n",
    "        tmp = pd.Series({'model_type': model_type,\n",
    "                         'model': clf_name,\n",
    "                         'roc_auc_score' : metrics.roc_auc_score(y_test, y_score),\n",
    "                         'matthews_corrcoef': metrics.matthews_corrcoef(y_test, y_pred),\n",
    "                         'precision_score': metrics.precision_score(y_test, y_pred),\n",
    "                         'recall_score': metrics.recall_score(y_test, y_pred),\n",
    "                         'f1_score': metrics.f1_score(y_test, y_pred)})\n",
    "\n",
    "        models_report = models_report.append(tmp, ignore_index = True)\n",
    "        conf_matrix[clf_name] = pd.crosstab(y_test, y_pred, rownames=['True'], colnames= ['Predicted'], margins=False)\n",
    "        fpr, tpr, thresholds = metrics.roc_curve(y_test, y_score, drop_intermediate = False, pos_label = 1)\n",
    "\n",
    "        plt.figure(1, figsize=(6,6))\n",
    "        plt.xlabel('false positive rate')\n",
    "        plt.ylabel('true positive rate')\n",
    "        plt.title('ROC curve - {}'.format(model_type))\n",
    "        plt.plot(fpr, tpr, label = clf_name )\n",
    "        plt.legend(loc=2, prop={'size':11})\n",
    "        plt.plot([0,1],[0,1], color = 'black')\n",
    "    \n",
    "    return models_report, conf_matrix"
   ]
  },
  {
   "cell_type": "code",
   "execution_count": 117,
   "id": "b176ff03",
   "metadata": {},
   "outputs": [
    {
     "name": "stdout",
     "output_type": "stream",
     "text": [
      "computing GradientBoosting - Non-balanced \n",
      "computing LogisticRegression - Non-balanced \n",
      "computing RandomForestClassifier - Non-balanced \n",
      "computing XGBClassifier - Non-balanced \n"
     ]
    },
    {
     "data": {
      "image/png": "[encoded data removed]",
      "text/plain": [
       "<Figure size 432x432 with 1 Axes>"
      ]
     },
     "metadata": {
      "needs_background": "light"
     },
     "output_type": "display_data"
    }
   ],
   "source": [
    "## Create Various models' report and confusion matrix\n",
    "## These results are still for unbalanced data\n",
    "X_train, X_test, y_train, y_test = train_test_split(X_scaled, y, test_size=0.3, random_state=0)\n",
    "models_report_unbalanced, conf_matrix_unbalanced = run_models(X_train, y_train, X_test, y_test, model_type = 'Non-balanced')"
   ]
  },
  {
   "cell_type": "code",
   "execution_count": 118,
   "id": "9421968e",
   "metadata": {},
   "outputs": [
    {
     "data": {
      "text/html": [
       "<div>\n",
       "<style scoped>\n",
       "    .dataframe tbody tr th:only-of-type {\n",
       "        vertical-align: middle;\n",
       "    }\n",
       "\n",
       "    .dataframe tbody tr th {\n",
       "        vertical-align: top;\n",
       "    }\n",
       "\n",
       "    .dataframe thead th {\n",
       "        text-align: right;\n",
       "    }\n",
       "</style>\n",
       "<table border=\"1\" class=\"dataframe\">\n",
       "  <thead>\n",
       "    <tr style=\"text-align: right;\">\n",
       "      <th></th>\n",
       "      <th>model</th>\n",
       "      <th>matthews_corrcoef</th>\n",
       "      <th>roc_auc_score</th>\n",
       "      <th>precision_score</th>\n",
       "      <th>recall_score</th>\n",
       "      <th>f1_score</th>\n",
       "      <th>model_type</th>\n",
       "    </tr>\n",
       "  </thead>\n",
       "  <tbody>\n",
       "    <tr>\n",
       "      <th>0</th>\n",
       "      <td>GradientBoosting</td>\n",
       "      <td>0.243819</td>\n",
       "      <td>0.752679</td>\n",
       "      <td>0.757399</td>\n",
       "      <td>0.924065</td>\n",
       "      <td>0.832472</td>\n",
       "      <td>Non-balanced</td>\n",
       "    </tr>\n",
       "    <tr>\n",
       "      <th>1</th>\n",
       "      <td>LogisticRegression</td>\n",
       "      <td>0.149634</td>\n",
       "      <td>0.670832</td>\n",
       "      <td>0.733093</td>\n",
       "      <td>0.958914</td>\n",
       "      <td>0.830934</td>\n",
       "      <td>Non-balanced</td>\n",
       "    </tr>\n",
       "    <tr>\n",
       "      <th>2</th>\n",
       "      <td>RandomForestClassifier</td>\n",
       "      <td>0.222543</td>\n",
       "      <td>0.694366</td>\n",
       "      <td>0.770868</td>\n",
       "      <td>0.825647</td>\n",
       "      <td>0.797318</td>\n",
       "      <td>Non-balanced</td>\n",
       "    </tr>\n",
       "    <tr>\n",
       "      <th>3</th>\n",
       "      <td>XGBClassifier</td>\n",
       "      <td>0.243475</td>\n",
       "      <td>0.742330</td>\n",
       "      <td>0.761176</td>\n",
       "      <td>0.906614</td>\n",
       "      <td>0.827553</td>\n",
       "      <td>Non-balanced</td>\n",
       "    </tr>\n",
       "  </tbody>\n",
       "</table>\n",
       "</div>"
      ],
      "text/plain": [
       "                    model  matthews_corrcoef  roc_auc_score  precision_score  \\\n",
       "0        GradientBoosting           0.243819       0.752679         0.757399   \n",
       "1      LogisticRegression           0.149634       0.670832         0.733093   \n",
       "2  RandomForestClassifier           0.222543       0.694366         0.770868   \n",
       "3           XGBClassifier           0.243475       0.742330         0.761176   \n",
       "\n",
       "   recall_score  f1_score    model_type  \n",
       "0      0.924065  0.832472  Non-balanced  \n",
       "1      0.958914  0.830934  Non-balanced  \n",
       "2      0.825647  0.797318  Non-balanced  \n",
       "3      0.906614  0.827553  Non-balanced  "
      ]
     },
     "execution_count": 118,
     "metadata": {},
     "output_type": "execute_result"
    }
   ],
   "source": [
    "models_report_unbalanced"
   ]
  },
  {
   "cell_type": "code",
   "execution_count": 119,
   "id": "ffdda8c8",
   "metadata": {},
   "outputs": [
    {
     "data": {
      "text/plain": [
       "{'GradientBoosting': Predicted     0      1\n",
       " True                  \n",
       " 0          1943   5648\n",
       " 1          1449  17633,\n",
       " 'LogisticRegression': Predicted    0      1\n",
       " True                 \n",
       " 0          929   6662\n",
       " 1          784  18298,\n",
       " 'RandomForestClassifier': Predicted     0      1\n",
       " True                  \n",
       " 0          2908   4683\n",
       " 1          3327  15755,\n",
       " 'XGBClassifier': Predicted     0      1\n",
       " True                  \n",
       " 0          2163   5428\n",
       " 1          1782  17300}"
      ]
     },
     "execution_count": 119,
     "metadata": {},
     "output_type": "execute_result"
    }
   ],
   "source": [
    "conf_matrix_unbalanced"
   ]
  },
  {
   "cell_type": "code",
   "execution_count": 120,
   "id": "7f497b97",
   "metadata": {},
   "outputs": [
    {
     "name": "stdout",
     "output_type": "stream",
     "text": [
      "computing GradientBoosting - Balanced \n",
      "computing LogisticRegression - Balanced \n",
      "computing RandomForestClassifier - Balanced \n",
      "computing XGBClassifier - Balanced \n"
     ]
    },
    {
     "data": {
      "image/png": "[encoded data removed]",
      "text/plain": [
       "<Figure size 432x432 with 1 Axes>"
      ]
     },
     "metadata": {
      "needs_background": "light"
     },
     "output_type": "display_data"
    }
   ],
   "source": [
    "# Use SMOTE to balance dataset\n",
    "index_split = int(len(X_scaled)/2)\n",
    "oversample = SMOTE()\n",
    "X_train, y_train = SMOTE().fit_resample(X_scaled[0:index_split, :], y[0:index_split])\n",
    "X_test, y_test = X_scaled[index_split:], y[index_split:]\n",
    "\n",
    "models_report_bal, conf_matrix_bal = run_models(X_train, y_train, X_test, y_test, model_type = 'Balanced')\n"
   ]
  },
  {
   "cell_type": "code",
   "execution_count": 122,
   "id": "34807b13",
   "metadata": {},
   "outputs": [
    {
     "data": {
      "text/html": [
       "<div>\n",
       "<style scoped>\n",
       "    .dataframe tbody tr th:only-of-type {\n",
       "        vertical-align: middle;\n",
       "    }\n",
       "\n",
       "    .dataframe tbody tr th {\n",
       "        vertical-align: top;\n",
       "    }\n",
       "\n",
       "    .dataframe thead th {\n",
       "        text-align: right;\n",
       "    }\n",
       "</style>\n",
       "<table border=\"1\" class=\"dataframe\">\n",
       "  <thead>\n",
       "    <tr style=\"text-align: right;\">\n",
       "      <th></th>\n",
       "      <th>model</th>\n",
       "      <th>matthews_corrcoef</th>\n",
       "      <th>roc_auc_score</th>\n",
       "      <th>precision_score</th>\n",
       "      <th>recall_score</th>\n",
       "      <th>f1_score</th>\n",
       "      <th>model_type</th>\n",
       "    </tr>\n",
       "  </thead>\n",
       "  <tbody>\n",
       "    <tr>\n",
       "      <th>0</th>\n",
       "      <td>GradientBoosting</td>\n",
       "      <td>0.183309</td>\n",
       "      <td>0.674620</td>\n",
       "      <td>0.875039</td>\n",
       "      <td>0.262759</td>\n",
       "      <td>0.404156</td>\n",
       "      <td>Balanced</td>\n",
       "    </tr>\n",
       "    <tr>\n",
       "      <th>1</th>\n",
       "      <td>LogisticRegression</td>\n",
       "      <td>0.242744</td>\n",
       "      <td>0.684462</td>\n",
       "      <td>0.800425</td>\n",
       "      <td>0.708339</td>\n",
       "      <td>0.751572</td>\n",
       "      <td>Balanced</td>\n",
       "    </tr>\n",
       "    <tr>\n",
       "      <th>2</th>\n",
       "      <td>RandomForestClassifier</td>\n",
       "      <td>0.144938</td>\n",
       "      <td>0.623987</td>\n",
       "      <td>0.850110</td>\n",
       "      <td>0.231129</td>\n",
       "      <td>0.363444</td>\n",
       "      <td>Balanced</td>\n",
       "    </tr>\n",
       "    <tr>\n",
       "      <th>3</th>\n",
       "      <td>XGBClassifier</td>\n",
       "      <td>0.199980</td>\n",
       "      <td>0.670328</td>\n",
       "      <td>0.854961</td>\n",
       "      <td>0.357931</td>\n",
       "      <td>0.504607</td>\n",
       "      <td>Balanced</td>\n",
       "    </tr>\n",
       "  </tbody>\n",
       "</table>\n",
       "</div>"
      ],
      "text/plain": [
       "                    model  matthews_corrcoef  roc_auc_score  precision_score  \\\n",
       "0        GradientBoosting           0.183309       0.674620         0.875039   \n",
       "1      LogisticRegression           0.242744       0.684462         0.800425   \n",
       "2  RandomForestClassifier           0.144938       0.623987         0.850110   \n",
       "3           XGBClassifier           0.199980       0.670328         0.854961   \n",
       "\n",
       "   recall_score  f1_score model_type  \n",
       "0      0.262759  0.404156   Balanced  \n",
       "1      0.708339  0.751572   Balanced  \n",
       "2      0.231129  0.363444   Balanced  \n",
       "3      0.357931  0.504607   Balanced  "
      ]
     },
     "execution_count": 122,
     "metadata": {},
     "output_type": "execute_result"
    }
   ],
   "source": [
    "models_report_bal"
   ]
  },
  {
   "cell_type": "code",
   "execution_count": 123,
   "id": "4c1b6be1",
   "metadata": {},
   "outputs": [
    {
     "data": {
      "text/plain": [
       "{'GradientBoosting': Predicted      0     1\n",
       " True                  \n",
       " 0          11358  1197\n",
       " 1          23518  8382,\n",
       " 'LogisticRegression': Predicted     0      1\n",
       " True                  \n",
       " 0          6921   5634\n",
       " 1          9304  22596,\n",
       " 'RandomForestClassifier': Predicted      0     1\n",
       " True                  \n",
       " 0          11255  1300\n",
       " 1          24527  7373,\n",
       " 'XGBClassifier': Predicted      0      1\n",
       " True                   \n",
       " 0          10618   1937\n",
       " 1          20482  11418}"
      ]
     },
     "execution_count": 123,
     "metadata": {},
     "output_type": "execute_result"
    }
   ],
   "source": [
    "conf_matrix_bal"
   ]
  },
  {
   "cell_type": "code",
   "execution_count": null,
   "id": "adb3c4bb",
   "metadata": {},
   "outputs": [],
   "source": [
    "# So, GradientBoosting model performed the best so save model"
   ]
  },
  {
   "cell_type": "code",
   "execution_count": 124,
   "id": "85c3115c",
   "metadata": {},
   "outputs": [
    {
     "data": {
      "text/plain": [
       "['GBM_Model_version1.pkl']"
      ]
     },
     "execution_count": 124,
     "metadata": {},
     "output_type": "execute_result"
    }
   ],
   "source": [
    "gbm=GradientBoostingClassifier(max_depth= 6, n_estimators=100, max_features = 0.3)\n",
    "gbm.fit(X_scaled, y)\n",
    "joblib.dump(gbm, 'GBM_Model_version1.pkl')"
   ]
  },
  {
   "cell_type": "code",
   "execution_count": 127,
   "id": "988a967b",
   "metadata": {},
   "outputs": [],
   "source": [
    "test=pd.read_csv('G:\\\\DATA_SETS\\\\LOAN_ELIGIBILITY_PREDICTOR_USING_GRADIENT_BOOSTING\\\\DATA_AND_SOLUTION\\\\test_data.csv',low_memory=False)"
   ]
  },
  {
   "cell_type": "code",
   "execution_count": 128,
   "id": "a09c261a",
   "metadata": {},
   "outputs": [
    {
     "data": {
      "text/html": [
       "<div>\n",
       "<style scoped>\n",
       "    .dataframe tbody tr th:only-of-type {\n",
       "        vertical-align: middle;\n",
       "    }\n",
       "\n",
       "    .dataframe tbody tr th {\n",
       "        vertical-align: top;\n",
       "    }\n",
       "\n",
       "    .dataframe thead th {\n",
       "        text-align: right;\n",
       "    }\n",
       "</style>\n",
       "<table border=\"1\" class=\"dataframe\">\n",
       "  <thead>\n",
       "    <tr style=\"text-align: right;\">\n",
       "      <th></th>\n",
       "      <th>Loan ID</th>\n",
       "      <th>Customer ID</th>\n",
       "      <th>Loan Status</th>\n",
       "      <th>Current Loan Amount</th>\n",
       "      <th>Term</th>\n",
       "      <th>Credit Score</th>\n",
       "      <th>Years in current job</th>\n",
       "      <th>Home Ownership</th>\n",
       "      <th>Annual Income</th>\n",
       "      <th>Purpose</th>\n",
       "      <th>Monthly Debt</th>\n",
       "      <th>Years of Credit History</th>\n",
       "      <th>Months since last delinquent</th>\n",
       "      <th>Number of Open Accounts</th>\n",
       "      <th>Number of Credit Problems</th>\n",
       "      <th>Current Credit Balance</th>\n",
       "      <th>Maximum Open Credit</th>\n",
       "      <th>Bankruptcies</th>\n",
       "      <th>Tax Liens</th>\n",
       "    </tr>\n",
       "  </thead>\n",
       "  <tbody>\n",
       "    <tr>\n",
       "      <th>0</th>\n",
       "      <td>6cf51492-02a2-423e-b93d-676f05b9ad53</td>\n",
       "      <td>7c202b37-2add-44e8-9aea-d5b119aea935</td>\n",
       "      <td>Charged Off</td>\n",
       "      <td>12232</td>\n",
       "      <td>Short Term</td>\n",
       "      <td>7280</td>\n",
       "      <td>&lt; 1 year</td>\n",
       "      <td>Rent</td>\n",
       "      <td>46643</td>\n",
       "      <td>Debt Consolidation</td>\n",
       "      <td>777.39</td>\n",
       "      <td>18.0</td>\n",
       "      <td>10.0</td>\n",
       "      <td>12</td>\n",
       "      <td>0</td>\n",
       "      <td>6762</td>\n",
       "      <td>7946</td>\n",
       "      <td>0</td>\n",
       "      <td>0</td>\n",
       "    </tr>\n",
       "    <tr>\n",
       "      <th>1</th>\n",
       "      <td>552e7ade-4292-4354-9ff9-c48031697d72</td>\n",
       "      <td>e7217b0a-07ac-47dd-b379-577b5a35b7c6</td>\n",
       "      <td>Charged Off</td>\n",
       "      <td>25014</td>\n",
       "      <td>Long Term</td>\n",
       "      <td>7330</td>\n",
       "      <td>10+ years</td>\n",
       "      <td>Home Mortgage</td>\n",
       "      <td>81099</td>\n",
       "      <td>Debt Consolidation</td>\n",
       "      <td>892.09</td>\n",
       "      <td>26.7</td>\n",
       "      <td>NaN</td>\n",
       "      <td>14</td>\n",
       "      <td>0</td>\n",
       "      <td>35706</td>\n",
       "      <td>77961</td>\n",
       "      <td>0</td>\n",
       "      <td>0</td>\n",
       "    </tr>\n",
       "    <tr>\n",
       "      <th>2</th>\n",
       "      <td>9b5e32b3-8d76-4801-afc8-d729d5a2e6b9</td>\n",
       "      <td>0a62fc41-16c8-40b5-92ff-9e4b763ce714</td>\n",
       "      <td>Charged Off</td>\n",
       "      <td>16117</td>\n",
       "      <td>Short Term</td>\n",
       "      <td>7240</td>\n",
       "      <td>9 years</td>\n",
       "      <td>Home Mortgage</td>\n",
       "      <td>60438</td>\n",
       "      <td>Home Improvements</td>\n",
       "      <td>1244.02</td>\n",
       "      <td>16.7</td>\n",
       "      <td>32.0</td>\n",
       "      <td>11</td>\n",
       "      <td>1</td>\n",
       "      <td>11275</td>\n",
       "      <td>14815</td>\n",
       "      <td>1</td>\n",
       "      <td>0</td>\n",
       "    </tr>\n",
       "    <tr>\n",
       "      <th>3</th>\n",
       "      <td>5419b7c7-ac11-4be2-a8a7-b131fb6d6dbe</td>\n",
       "      <td>30f36c59-5182-4482-8bbb-5b736849ae43</td>\n",
       "      <td>Charged Off</td>\n",
       "      <td>11716</td>\n",
       "      <td>Short Term</td>\n",
       "      <td>7400</td>\n",
       "      <td>3 years</td>\n",
       "      <td>Rent</td>\n",
       "      <td>34171</td>\n",
       "      <td>Debt Consolidation</td>\n",
       "      <td>990.94</td>\n",
       "      <td>10.0</td>\n",
       "      <td>NaN</td>\n",
       "      <td>21</td>\n",
       "      <td>0</td>\n",
       "      <td>7009</td>\n",
       "      <td>43533</td>\n",
       "      <td>0</td>\n",
       "      <td>0</td>\n",
       "    </tr>\n",
       "    <tr>\n",
       "      <th>4</th>\n",
       "      <td>1450910f-9495-4fc9-afaf-9bdf4b9821df</td>\n",
       "      <td>70c26012-bba5-42c0-8dcb-75295ada31bb</td>\n",
       "      <td>Charged Off</td>\n",
       "      <td>9789</td>\n",
       "      <td>Long Term</td>\n",
       "      <td>6860</td>\n",
       "      <td>10+ years</td>\n",
       "      <td>Home Mortgage</td>\n",
       "      <td>47003</td>\n",
       "      <td>Home Improvements</td>\n",
       "      <td>503.71</td>\n",
       "      <td>16.7</td>\n",
       "      <td>25.0</td>\n",
       "      <td>13</td>\n",
       "      <td>1</td>\n",
       "      <td>16913</td>\n",
       "      <td>19553</td>\n",
       "      <td>1</td>\n",
       "      <td>0</td>\n",
       "    </tr>\n",
       "  </tbody>\n",
       "</table>\n",
       "</div>"
      ],
      "text/plain": [
       "                                Loan ID                           Customer ID  \\\n",
       "0  6cf51492-02a2-423e-b93d-676f05b9ad53  7c202b37-2add-44e8-9aea-d5b119aea935   \n",
       "1  552e7ade-4292-4354-9ff9-c48031697d72  e7217b0a-07ac-47dd-b379-577b5a35b7c6   \n",
       "2  9b5e32b3-8d76-4801-afc8-d729d5a2e6b9  0a62fc41-16c8-40b5-92ff-9e4b763ce714   \n",
       "3  5419b7c7-ac11-4be2-a8a7-b131fb6d6dbe  30f36c59-5182-4482-8bbb-5b736849ae43   \n",
       "4  1450910f-9495-4fc9-afaf-9bdf4b9821df  70c26012-bba5-42c0-8dcb-75295ada31bb   \n",
       "\n",
       "   Loan Status  Current Loan Amount        Term  Credit Score  \\\n",
       "0  Charged Off                12232  Short Term          7280   \n",
       "1  Charged Off                25014   Long Term          7330   \n",
       "2  Charged Off                16117  Short Term          7240   \n",
       "3  Charged Off                11716  Short Term          7400   \n",
       "4  Charged Off                 9789   Long Term          6860   \n",
       "\n",
       "  Years in current job Home Ownership  Annual Income             Purpose  \\\n",
       "0             < 1 year           Rent          46643  Debt Consolidation   \n",
       "1            10+ years  Home Mortgage          81099  Debt Consolidation   \n",
       "2              9 years  Home Mortgage          60438   Home Improvements   \n",
       "3              3 years           Rent          34171  Debt Consolidation   \n",
       "4            10+ years  Home Mortgage          47003   Home Improvements   \n",
       "\n",
       "   Monthly Debt  Years of Credit History  Months since last delinquent  \\\n",
       "0        777.39                     18.0                          10.0   \n",
       "1        892.09                     26.7                           NaN   \n",
       "2       1244.02                     16.7                          32.0   \n",
       "3        990.94                     10.0                           NaN   \n",
       "4        503.71                     16.7                          25.0   \n",
       "\n",
       "   Number of Open Accounts  Number of Credit Problems  Current Credit Balance  \\\n",
       "0                       12                          0                    6762   \n",
       "1                       14                          0                   35706   \n",
       "2                       11                          1                   11275   \n",
       "3                       21                          0                    7009   \n",
       "4                       13                          1                   16913   \n",
       "\n",
       "   Maximum Open Credit  Bankruptcies  Tax Liens  \n",
       "0                 7946             0          0  \n",
       "1                77961             0          0  \n",
       "2                14815             1          0  \n",
       "3                43533             0          0  \n",
       "4                19553             1          0  "
      ]
     },
     "execution_count": 128,
     "metadata": {},
     "output_type": "execute_result"
    }
   ],
   "source": [
    "test.head()"
   ]
  },
  {
   "cell_type": "code",
   "execution_count": 130,
   "id": "18eb7029",
   "metadata": {},
   "outputs": [
    {
     "data": {
      "text/plain": [
       "Loan ID                          object\n",
       "Customer ID                      object\n",
       "Loan Status                      object\n",
       "Current Loan Amount               int64\n",
       "Term                             object\n",
       "Credit Score                      int64\n",
       "Years in current job             object\n",
       "Home Ownership                   object\n",
       "Annual Income                     int64\n",
       "Purpose                          object\n",
       "Monthly Debt                    float64\n",
       "Years of Credit History         float64\n",
       "Months since last delinquent    float64\n",
       "Number of Open Accounts           int64\n",
       "Number of Credit Problems         int64\n",
       "Current Credit Balance            int64\n",
       "Maximum Open Credit               int64\n",
       "Bankruptcies                      int64\n",
       "Tax Liens                         int64\n",
       "dtype: object"
      ]
     },
     "execution_count": 130,
     "metadata": {},
     "output_type": "execute_result"
    }
   ],
   "source": [
    "test.dtypes"
   ]
  },
  {
   "cell_type": "code",
   "execution_count": 129,
   "id": "6487ca6f",
   "metadata": {},
   "outputs": [
    {
     "data": {
      "text/html": [
       "<div>\n",
       "<style scoped>\n",
       "    .dataframe tbody tr th:only-of-type {\n",
       "        vertical-align: middle;\n",
       "    }\n",
       "\n",
       "    .dataframe tbody tr th {\n",
       "        vertical-align: top;\n",
       "    }\n",
       "\n",
       "    .dataframe thead th {\n",
       "        text-align: right;\n",
       "    }\n",
       "</style>\n",
       "<table border=\"1\" class=\"dataframe\">\n",
       "  <thead>\n",
       "    <tr style=\"text-align: right;\">\n",
       "      <th></th>\n",
       "      <th>Current Loan Amount</th>\n",
       "      <th>Credit Score</th>\n",
       "      <th>Annual Income</th>\n",
       "      <th>Monthly Debt</th>\n",
       "      <th>Years of Credit History</th>\n",
       "      <th>Months since last delinquent</th>\n",
       "      <th>Number of Open Accounts</th>\n",
       "      <th>Number of Credit Problems</th>\n",
       "      <th>Current Credit Balance</th>\n",
       "      <th>Maximum Open Credit</th>\n",
       "      <th>Bankruptcies</th>\n",
       "      <th>Tax Liens</th>\n",
       "    </tr>\n",
       "  </thead>\n",
       "  <tbody>\n",
       "    <tr>\n",
       "      <th>count</th>\n",
       "      <td>9.000000</td>\n",
       "      <td>9.000000</td>\n",
       "      <td>9.000000</td>\n",
       "      <td>9.000000</td>\n",
       "      <td>9.000000</td>\n",
       "      <td>3.000000</td>\n",
       "      <td>9.000000</td>\n",
       "      <td>9.000000</td>\n",
       "      <td>9.000000</td>\n",
       "      <td>9.000000</td>\n",
       "      <td>9.000000</td>\n",
       "      <td>9.0</td>\n",
       "    </tr>\n",
       "    <tr>\n",
       "      <th>mean</th>\n",
       "      <td>16698.222222</td>\n",
       "      <td>7215.555556</td>\n",
       "      <td>55336.444444</td>\n",
       "      <td>781.197778</td>\n",
       "      <td>19.266667</td>\n",
       "      <td>22.333333</td>\n",
       "      <td>12.444444</td>\n",
       "      <td>0.333333</td>\n",
       "      <td>15272.777778</td>\n",
       "      <td>35346.000000</td>\n",
       "      <td>0.333333</td>\n",
       "      <td>0.0</td>\n",
       "    </tr>\n",
       "    <tr>\n",
       "      <th>std</th>\n",
       "      <td>6490.181927</td>\n",
       "      <td>279.647596</td>\n",
       "      <td>14038.296354</td>\n",
       "      <td>287.208018</td>\n",
       "      <td>6.246599</td>\n",
       "      <td>11.239810</td>\n",
       "      <td>3.678013</td>\n",
       "      <td>0.500000</td>\n",
       "      <td>10441.093522</td>\n",
       "      <td>24396.807768</td>\n",
       "      <td>0.500000</td>\n",
       "      <td>0.0</td>\n",
       "    </tr>\n",
       "    <tr>\n",
       "      <th>min</th>\n",
       "      <td>9789.000000</td>\n",
       "      <td>6630.000000</td>\n",
       "      <td>34171.000000</td>\n",
       "      <td>274.590000</td>\n",
       "      <td>10.000000</td>\n",
       "      <td>10.000000</td>\n",
       "      <td>9.000000</td>\n",
       "      <td>0.000000</td>\n",
       "      <td>4252.000000</td>\n",
       "      <td>7946.000000</td>\n",
       "      <td>0.000000</td>\n",
       "      <td>0.0</td>\n",
       "    </tr>\n",
       "    <tr>\n",
       "      <th>25%</th>\n",
       "      <td>11911.000000</td>\n",
       "      <td>7240.000000</td>\n",
       "      <td>47003.000000</td>\n",
       "      <td>590.120000</td>\n",
       "      <td>16.700000</td>\n",
       "      <td>17.500000</td>\n",
       "      <td>10.000000</td>\n",
       "      <td>0.000000</td>\n",
       "      <td>7009.000000</td>\n",
       "      <td>15379.000000</td>\n",
       "      <td>0.000000</td>\n",
       "      <td>0.0</td>\n",
       "    </tr>\n",
       "    <tr>\n",
       "      <th>50%</th>\n",
       "      <td>16117.000000</td>\n",
       "      <td>7330.000000</td>\n",
       "      <td>50945.000000</td>\n",
       "      <td>871.110000</td>\n",
       "      <td>17.700000</td>\n",
       "      <td>25.000000</td>\n",
       "      <td>12.000000</td>\n",
       "      <td>0.000000</td>\n",
       "      <td>12903.000000</td>\n",
       "      <td>25012.000000</td>\n",
       "      <td>0.000000</td>\n",
       "      <td>0.0</td>\n",
       "    </tr>\n",
       "    <tr>\n",
       "      <th>75%</th>\n",
       "      <td>17705.000000</td>\n",
       "      <td>7400.000000</td>\n",
       "      <td>60438.000000</td>\n",
       "      <td>892.090000</td>\n",
       "      <td>22.800000</td>\n",
       "      <td>28.500000</td>\n",
       "      <td>13.000000</td>\n",
       "      <td>1.000000</td>\n",
       "      <td>16913.000000</td>\n",
       "      <td>54018.000000</td>\n",
       "      <td>1.000000</td>\n",
       "      <td>0.0</td>\n",
       "    </tr>\n",
       "    <tr>\n",
       "      <th>max</th>\n",
       "      <td>28988.000000</td>\n",
       "      <td>7420.000000</td>\n",
       "      <td>81099.000000</td>\n",
       "      <td>1244.020000</td>\n",
       "      <td>30.200000</td>\n",
       "      <td>32.000000</td>\n",
       "      <td>21.000000</td>\n",
       "      <td>1.000000</td>\n",
       "      <td>35706.000000</td>\n",
       "      <td>77961.000000</td>\n",
       "      <td>1.000000</td>\n",
       "      <td>0.0</td>\n",
       "    </tr>\n",
       "  </tbody>\n",
       "</table>\n",
       "</div>"
      ],
      "text/plain": [
       "       Current Loan Amount  Credit Score  Annual Income  Monthly Debt  \\\n",
       "count             9.000000      9.000000       9.000000      9.000000   \n",
       "mean          16698.222222   7215.555556   55336.444444    781.197778   \n",
       "std            6490.181927    279.647596   14038.296354    287.208018   \n",
       "min            9789.000000   6630.000000   34171.000000    274.590000   \n",
       "25%           11911.000000   7240.000000   47003.000000    590.120000   \n",
       "50%           16117.000000   7330.000000   50945.000000    871.110000   \n",
       "75%           17705.000000   7400.000000   60438.000000    892.090000   \n",
       "max           28988.000000   7420.000000   81099.000000   1244.020000   \n",
       "\n",
       "       Years of Credit History  Months since last delinquent  \\\n",
       "count                 9.000000                      3.000000   \n",
       "mean                 19.266667                     22.333333   \n",
       "std                   6.246599                     11.239810   \n",
       "min                  10.000000                     10.000000   \n",
       "25%                  16.700000                     17.500000   \n",
       "50%                  17.700000                     25.000000   \n",
       "75%                  22.800000                     28.500000   \n",
       "max                  30.200000                     32.000000   \n",
       "\n",
       "       Number of Open Accounts  Number of Credit Problems  \\\n",
       "count                 9.000000                   9.000000   \n",
       "mean                 12.444444                   0.333333   \n",
       "std                   3.678013                   0.500000   \n",
       "min                   9.000000                   0.000000   \n",
       "25%                  10.000000                   0.000000   \n",
       "50%                  12.000000                   0.000000   \n",
       "75%                  13.000000                   1.000000   \n",
       "max                  21.000000                   1.000000   \n",
       "\n",
       "       Current Credit Balance  Maximum Open Credit  Bankruptcies  Tax Liens  \n",
       "count                9.000000             9.000000      9.000000        9.0  \n",
       "mean             15272.777778         35346.000000      0.333333        0.0  \n",
       "std              10441.093522         24396.807768      0.500000        0.0  \n",
       "min               4252.000000          7946.000000      0.000000        0.0  \n",
       "25%               7009.000000         15379.000000      0.000000        0.0  \n",
       "50%              12903.000000         25012.000000      0.000000        0.0  \n",
       "75%              16913.000000         54018.000000      1.000000        0.0  \n",
       "max              35706.000000         77961.000000      1.000000        0.0  "
      ]
     },
     "execution_count": 129,
     "metadata": {},
     "output_type": "execute_result"
    }
   ],
   "source": [
    "test.describe()"
   ]
  },
  {
   "cell_type": "code",
   "execution_count": 132,
   "id": "43e8c45c",
   "metadata": {},
   "outputs": [],
   "source": [
    "# Collect cateorical variables\n",
    "cat_columns = ['Term','Years in current job','Home Ownership','Purpose']\n",
    "for col in cat_columns:\n",
    "    test[col] = pd.factorize(test[col])[0]"
   ]
  },
  {
   "cell_type": "code",
   "execution_count": null,
   "id": "306fce37",
   "metadata": {},
   "outputs": [],
   "source": [
    "#Imputing missing data with soft impute\n",
    "updated_test_data=pd.DataFrame(data=SoftImpute().fit_transform(test[test.columns[3:19]],), columns=test[test.columns[3:19]].columns, index=test.index)"
   ]
  },
  {
   "cell_type": "code",
   "execution_count": 134,
   "id": "3a063620",
   "metadata": {},
   "outputs": [],
   "source": [
    "# Dropping the dummy variables\n",
    "test_data = pd.get_dummies(updated_test_data, drop_first=True)"
   ]
  },
  {
   "cell_type": "code",
   "execution_count": 135,
   "id": "641a845f",
   "metadata": {},
   "outputs": [],
   "source": [
    "# Load Model\n",
    "gbm_pickle = joblib.load('GBM_Model_version1.pkl')"
   ]
  },
  {
   "cell_type": "code",
   "execution_count": null,
   "id": "3e8fc4ba",
   "metadata": {},
   "outputs": [],
   "source": [
    "y_pred = gbm_pickle.predict(test_data)"
   ]
  },
  {
   "cell_type": "code",
   "execution_count": null,
   "id": "02824e2f",
   "metadata": {},
   "outputs": [],
   "source": [
    "y_pred = gbm_pickle.predict_proba(test_data)"
   ]
  },
  {
   "cell_type": "code",
   "execution_count": 139,
   "id": "9a59f61e",
   "metadata": {},
   "outputs": [
    {
     "data": {
      "text/plain": [
       "array([[0.37965346, 0.62034654],\n",
       "       [0.33250707, 0.66749293],\n",
       "       [0.33929963, 0.66070037],\n",
       "       [0.38062514, 0.61937486],\n",
       "       [0.27697778, 0.72302222],\n",
       "       [0.28827175, 0.71172825],\n",
       "       [0.38062514, 0.61937486],\n",
       "       [0.27801001, 0.72198999],\n",
       "       [0.38062514, 0.61937486]])"
      ]
     },
     "execution_count": 139,
     "metadata": {},
     "output_type": "execute_result"
    }
   ],
   "source": [
    "y_pred"
   ]
  },
  {
   "cell_type": "code",
   "execution_count": 140,
   "id": "cc94a2d7",
   "metadata": {},
   "outputs": [],
   "source": [
    "y_pred_1=np.where(y_pred ==0, 'Loan Approved', 'Loan Rejected')"
   ]
  },
  {
   "cell_type": "code",
   "execution_count": 141,
   "id": "3c333653",
   "metadata": {},
   "outputs": [
    {
     "data": {
      "text/plain": [
       "array([['Loan Rejected', 'Loan Rejected'],\n",
       "       ['Loan Rejected', 'Loan Rejected'],\n",
       "       ['Loan Rejected', 'Loan Rejected'],\n",
       "       ['Loan Rejected', 'Loan Rejected'],\n",
       "       ['Loan Rejected', 'Loan Rejected'],\n",
       "       ['Loan Rejected', 'Loan Rejected'],\n",
       "       ['Loan Rejected', 'Loan Rejected'],\n",
       "       ['Loan Rejected', 'Loan Rejected'],\n",
       "       ['Loan Rejected', 'Loan Rejected']], dtype='<U13')"
      ]
     },
     "execution_count": 141,
     "metadata": {},
     "output_type": "execute_result"
    }
   ],
   "source": [
    "y_pred_1"
   ]
  },
  {
   "cell_type": "code",
   "execution_count": 142,
   "id": "b3ed2f21",
   "metadata": {},
   "outputs": [],
   "source": [
    "test['Loan Status']=y_pred_1"
   ]
  },
  {
   "cell_type": "code",
   "execution_count": 143,
   "id": "bfb8fa36",
   "metadata": {},
   "outputs": [],
   "source": [
    "test.to_csv('Output_Test.csv',index=False)"
   ]
  }
 ],
 "metadata": {
  "kernelspec": {
   "display_name": "Python 3 (ipykernel)",
   "language": "python",
   "name": "python3"
  },
  "language_info": {
   "codemirror_mode": {
    "name": "ipython",
    "version": 3
   },
   "file_extension": ".py",
   "mimetype": "text/x-python",
   "name": "python",
   "nbconvert_exporter": "python",
   "pygments_lexer": "ipython3",
   "version": "3.9.7"
  }
 },
 "nbformat": 4,
 "nbformat_minor": 5
}
